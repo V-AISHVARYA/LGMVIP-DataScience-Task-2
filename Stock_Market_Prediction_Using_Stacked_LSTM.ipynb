{
  "cells": [
    {
      "cell_type": "markdown",
      "metadata": {
        "id": "view-in-github",
        "colab_type": "text"
      },
      "source": [
        "<a href=\"https://colab.research.google.com/github/V-AISHVARYA/LGMVIP-DataScience-Task-2/blob/main/Stock_Market_Prediction_Using_Stacked_LSTM.ipynb\" target=\"_parent\"><img src=\"https://colab.research.google.com/assets/colab-badge.svg\" alt=\"Open In Colab\"/></a>"
      ]
    },
    {
      "cell_type": "markdown",
      "source": [
        "##LGMVIP TASK2:\n",
        "**Stock Market Prediction And Forecasting Using Stacked LSTM**\n",
        "\n",
        "\n",
        "~Aishvarya.V"
      ],
      "metadata": {
        "id": "5NBuLdChSJSj"
      },
      "id": "5NBuLdChSJSj"
    },
    {
      "cell_type": "markdown",
      "id": "f53d2d46",
      "metadata": {
        "id": "f53d2d46"
      },
      "source": [
        "## Importing the libraries"
      ]
    },
    {
      "cell_type": "code",
      "execution_count": null,
      "id": "86856432",
      "metadata": {
        "id": "86856432"
      },
      "outputs": [],
      "source": [
        "import numpy as np\n",
        "import pandas as pd\n",
        "import matplotlib.pyplot as plt\n",
        "import tensorflow as tf\n",
        "from sklearn.preprocessing import MinMaxScaler\n"
      ]
    },
    {
      "cell_type": "markdown",
      "id": "6ff2914e",
      "metadata": {
        "id": "6ff2914e"
      },
      "source": [
        "## Reading the dataset"
      ]
    },
    {
      "cell_type": "code",
      "execution_count": null,
      "id": "379c9d12",
      "metadata": {
        "id": "379c9d12"
      },
      "outputs": [],
      "source": [
        "tg = pd.read_csv(\"NSE-TATAGLOBAL.csv\")"
      ]
    },
    {
      "cell_type": "code",
      "source": [
        "from google.colab import drive\n",
        "drive.mount('/content/drive')"
      ],
      "metadata": {
        "id": "6E3-xZxVR1bf"
      },
      "id": "6E3-xZxVR1bf",
      "execution_count": null,
      "outputs": []
    },
    {
      "cell_type": "code",
      "execution_count": null,
      "id": "131ed5c7",
      "metadata": {
        "colab": {
          "base_uri": "https://localhost:8080/",
          "height": 206
        },
        "id": "131ed5c7",
        "outputId": "e74b8669-f87c-4d8b-a4a5-7331863d2849"
      },
      "outputs": [
        {
          "output_type": "execute_result",
          "data": {
            "text/plain": [
              "         Date    Open    High     Low    Last   Close  Total Trade Quantity  \\\n",
              "0  2018-09-28  234.05  235.95  230.20  233.50  233.75               3069914   \n",
              "1  2018-09-27  234.55  236.80  231.10  233.80  233.25               5082859   \n",
              "2  2018-09-26  240.00  240.00  232.50  235.00  234.25               2240909   \n",
              "3  2018-09-25  233.30  236.75  232.00  236.25  236.10               2349368   \n",
              "4  2018-09-24  233.55  239.20  230.75  234.00  233.30               3423509   \n",
              "\n",
              "   Turnover (Lacs)  \n",
              "0          7162.35  \n",
              "1         11859.95  \n",
              "2          5248.60  \n",
              "3          5503.90  \n",
              "4          7999.55  "
            ],
            "text/html": [
              "\n",
              "  <div id=\"df-dd6eca68-5f27-4a2c-8986-9d573b16490c\" class=\"colab-df-container\">\n",
              "    <div>\n",
              "<style scoped>\n",
              "    .dataframe tbody tr th:only-of-type {\n",
              "        vertical-align: middle;\n",
              "    }\n",
              "\n",
              "    .dataframe tbody tr th {\n",
              "        vertical-align: top;\n",
              "    }\n",
              "\n",
              "    .dataframe thead th {\n",
              "        text-align: right;\n",
              "    }\n",
              "</style>\n",
              "<table border=\"1\" class=\"dataframe\">\n",
              "  <thead>\n",
              "    <tr style=\"text-align: right;\">\n",
              "      <th></th>\n",
              "      <th>Date</th>\n",
              "      <th>Open</th>\n",
              "      <th>High</th>\n",
              "      <th>Low</th>\n",
              "      <th>Last</th>\n",
              "      <th>Close</th>\n",
              "      <th>Total Trade Quantity</th>\n",
              "      <th>Turnover (Lacs)</th>\n",
              "    </tr>\n",
              "  </thead>\n",
              "  <tbody>\n",
              "    <tr>\n",
              "      <th>0</th>\n",
              "      <td>2018-09-28</td>\n",
              "      <td>234.05</td>\n",
              "      <td>235.95</td>\n",
              "      <td>230.20</td>\n",
              "      <td>233.50</td>\n",
              "      <td>233.75</td>\n",
              "      <td>3069914</td>\n",
              "      <td>7162.35</td>\n",
              "    </tr>\n",
              "    <tr>\n",
              "      <th>1</th>\n",
              "      <td>2018-09-27</td>\n",
              "      <td>234.55</td>\n",
              "      <td>236.80</td>\n",
              "      <td>231.10</td>\n",
              "      <td>233.80</td>\n",
              "      <td>233.25</td>\n",
              "      <td>5082859</td>\n",
              "      <td>11859.95</td>\n",
              "    </tr>\n",
              "    <tr>\n",
              "      <th>2</th>\n",
              "      <td>2018-09-26</td>\n",
              "      <td>240.00</td>\n",
              "      <td>240.00</td>\n",
              "      <td>232.50</td>\n",
              "      <td>235.00</td>\n",
              "      <td>234.25</td>\n",
              "      <td>2240909</td>\n",
              "      <td>5248.60</td>\n",
              "    </tr>\n",
              "    <tr>\n",
              "      <th>3</th>\n",
              "      <td>2018-09-25</td>\n",
              "      <td>233.30</td>\n",
              "      <td>236.75</td>\n",
              "      <td>232.00</td>\n",
              "      <td>236.25</td>\n",
              "      <td>236.10</td>\n",
              "      <td>2349368</td>\n",
              "      <td>5503.90</td>\n",
              "    </tr>\n",
              "    <tr>\n",
              "      <th>4</th>\n",
              "      <td>2018-09-24</td>\n",
              "      <td>233.55</td>\n",
              "      <td>239.20</td>\n",
              "      <td>230.75</td>\n",
              "      <td>234.00</td>\n",
              "      <td>233.30</td>\n",
              "      <td>3423509</td>\n",
              "      <td>7999.55</td>\n",
              "    </tr>\n",
              "  </tbody>\n",
              "</table>\n",
              "</div>\n",
              "    <div class=\"colab-df-buttons\">\n",
              "\n",
              "  <div class=\"colab-df-container\">\n",
              "    <button class=\"colab-df-convert\" onclick=\"convertToInteractive('df-dd6eca68-5f27-4a2c-8986-9d573b16490c')\"\n",
              "            title=\"Convert this dataframe to an interactive table.\"\n",
              "            style=\"display:none;\">\n",
              "\n",
              "  <svg xmlns=\"http://www.w3.org/2000/svg\" height=\"24px\" viewBox=\"0 -960 960 960\">\n",
              "    <path d=\"M120-120v-720h720v720H120Zm60-500h600v-160H180v160Zm220 220h160v-160H400v160Zm0 220h160v-160H400v160ZM180-400h160v-160H180v160Zm440 0h160v-160H620v160ZM180-180h160v-160H180v160Zm440 0h160v-160H620v160Z\"/>\n",
              "  </svg>\n",
              "    </button>\n",
              "\n",
              "  <style>\n",
              "    .colab-df-container {\n",
              "      display:flex;\n",
              "      gap: 12px;\n",
              "    }\n",
              "\n",
              "    .colab-df-convert {\n",
              "      background-color: #E8F0FE;\n",
              "      border: none;\n",
              "      border-radius: 50%;\n",
              "      cursor: pointer;\n",
              "      display: none;\n",
              "      fill: #1967D2;\n",
              "      height: 32px;\n",
              "      padding: 0 0 0 0;\n",
              "      width: 32px;\n",
              "    }\n",
              "\n",
              "    .colab-df-convert:hover {\n",
              "      background-color: #E2EBFA;\n",
              "      box-shadow: 0px 1px 2px rgba(60, 64, 67, 0.3), 0px 1px 3px 1px rgba(60, 64, 67, 0.15);\n",
              "      fill: #174EA6;\n",
              "    }\n",
              "\n",
              "    .colab-df-buttons div {\n",
              "      margin-bottom: 4px;\n",
              "    }\n",
              "\n",
              "    [theme=dark] .colab-df-convert {\n",
              "      background-color: #3B4455;\n",
              "      fill: #D2E3FC;\n",
              "    }\n",
              "\n",
              "    [theme=dark] .colab-df-convert:hover {\n",
              "      background-color: #434B5C;\n",
              "      box-shadow: 0px 1px 3px 1px rgba(0, 0, 0, 0.15);\n",
              "      filter: drop-shadow(0px 1px 2px rgba(0, 0, 0, 0.3));\n",
              "      fill: #FFFFFF;\n",
              "    }\n",
              "  </style>\n",
              "\n",
              "    <script>\n",
              "      const buttonEl =\n",
              "        document.querySelector('#df-dd6eca68-5f27-4a2c-8986-9d573b16490c button.colab-df-convert');\n",
              "      buttonEl.style.display =\n",
              "        google.colab.kernel.accessAllowed ? 'block' : 'none';\n",
              "\n",
              "      async function convertToInteractive(key) {\n",
              "        const element = document.querySelector('#df-dd6eca68-5f27-4a2c-8986-9d573b16490c');\n",
              "        const dataTable =\n",
              "          await google.colab.kernel.invokeFunction('convertToInteractive',\n",
              "                                                    [key], {});\n",
              "        if (!dataTable) return;\n",
              "\n",
              "        const docLinkHtml = 'Like what you see? Visit the ' +\n",
              "          '<a target=\"_blank\" href=https://colab.research.google.com/notebooks/data_table.ipynb>data table notebook</a>'\n",
              "          + ' to learn more about interactive tables.';\n",
              "        element.innerHTML = '';\n",
              "        dataTable['output_type'] = 'display_data';\n",
              "        await google.colab.output.renderOutput(dataTable, element);\n",
              "        const docLink = document.createElement('div');\n",
              "        docLink.innerHTML = docLinkHtml;\n",
              "        element.appendChild(docLink);\n",
              "      }\n",
              "    </script>\n",
              "  </div>\n",
              "\n",
              "\n",
              "<div id=\"df-62ef9747-312c-4865-aa0c-407862c09b08\">\n",
              "  <button class=\"colab-df-quickchart\" onclick=\"quickchart('df-62ef9747-312c-4865-aa0c-407862c09b08')\"\n",
              "            title=\"Suggest charts.\"\n",
              "            style=\"display:none;\">\n",
              "\n",
              "<svg xmlns=\"http://www.w3.org/2000/svg\" height=\"24px\"viewBox=\"0 0 24 24\"\n",
              "     width=\"24px\">\n",
              "    <g>\n",
              "        <path d=\"M19 3H5c-1.1 0-2 .9-2 2v14c0 1.1.9 2 2 2h14c1.1 0 2-.9 2-2V5c0-1.1-.9-2-2-2zM9 17H7v-7h2v7zm4 0h-2V7h2v10zm4 0h-2v-4h2v4z\"/>\n",
              "    </g>\n",
              "</svg>\n",
              "  </button>\n",
              "\n",
              "<style>\n",
              "  .colab-df-quickchart {\n",
              "    background-color: #E8F0FE;\n",
              "    border: none;\n",
              "    border-radius: 50%;\n",
              "    cursor: pointer;\n",
              "    display: none;\n",
              "    fill: #1967D2;\n",
              "    height: 32px;\n",
              "    padding: 0 0 0 0;\n",
              "    width: 32px;\n",
              "  }\n",
              "\n",
              "  .colab-df-quickchart:hover {\n",
              "    background-color: #E2EBFA;\n",
              "    box-shadow: 0px 1px 2px rgba(60, 64, 67, 0.3), 0px 1px 3px 1px rgba(60, 64, 67, 0.15);\n",
              "    fill: #174EA6;\n",
              "  }\n",
              "\n",
              "  [theme=dark] .colab-df-quickchart {\n",
              "    background-color: #3B4455;\n",
              "    fill: #D2E3FC;\n",
              "  }\n",
              "\n",
              "  [theme=dark] .colab-df-quickchart:hover {\n",
              "    background-color: #434B5C;\n",
              "    box-shadow: 0px 1px 3px 1px rgba(0, 0, 0, 0.15);\n",
              "    filter: drop-shadow(0px 1px 2px rgba(0, 0, 0, 0.3));\n",
              "    fill: #FFFFFF;\n",
              "  }\n",
              "</style>\n",
              "\n",
              "  <script>\n",
              "    async function quickchart(key) {\n",
              "      const charts = await google.colab.kernel.invokeFunction(\n",
              "          'suggestCharts', [key], {});\n",
              "    }\n",
              "    (() => {\n",
              "      let quickchartButtonEl =\n",
              "        document.querySelector('#df-62ef9747-312c-4865-aa0c-407862c09b08 button');\n",
              "      quickchartButtonEl.style.display =\n",
              "        google.colab.kernel.accessAllowed ? 'block' : 'none';\n",
              "    })();\n",
              "  </script>\n",
              "</div>\n",
              "    </div>\n",
              "  </div>\n"
            ]
          },
          "metadata": {},
          "execution_count": 3
        }
      ],
      "source": [
        "tg.head()"
      ]
    },
    {
      "cell_type": "code",
      "execution_count": null,
      "id": "2535a948",
      "metadata": {
        "colab": {
          "base_uri": "https://localhost:8080/",
          "height": 206
        },
        "id": "2535a948",
        "outputId": "4a3d4c0e-6268-4582-f4af-c5e6d772718c"
      },
      "outputs": [
        {
          "output_type": "execute_result",
          "data": {
            "text/plain": [
              "            Date   Open    High     Low    Last   Close  Total Trade Quantity  \\\n",
              "2030  2010-07-27  117.6  119.50  112.00  118.80  118.65                586100   \n",
              "2031  2010-07-26  120.1  121.00  117.10  117.10  117.60                658440   \n",
              "2032  2010-07-23  121.8  121.95  120.25  120.35  120.65                281312   \n",
              "2033  2010-07-22  120.3  122.00  120.25  120.75  120.90                293312   \n",
              "2034  2010-07-21  122.1  123.00  121.05  121.10  121.55                658666   \n",
              "\n",
              "      Turnover (Lacs)  \n",
              "2030           694.98  \n",
              "2031           780.01  \n",
              "2032           340.31  \n",
              "2033           355.17  \n",
              "2034           803.56  "
            ],
            "text/html": [
              "\n",
              "  <div id=\"df-ede8970e-61e8-4e83-9fab-740bd3c972e9\" class=\"colab-df-container\">\n",
              "    <div>\n",
              "<style scoped>\n",
              "    .dataframe tbody tr th:only-of-type {\n",
              "        vertical-align: middle;\n",
              "    }\n",
              "\n",
              "    .dataframe tbody tr th {\n",
              "        vertical-align: top;\n",
              "    }\n",
              "\n",
              "    .dataframe thead th {\n",
              "        text-align: right;\n",
              "    }\n",
              "</style>\n",
              "<table border=\"1\" class=\"dataframe\">\n",
              "  <thead>\n",
              "    <tr style=\"text-align: right;\">\n",
              "      <th></th>\n",
              "      <th>Date</th>\n",
              "      <th>Open</th>\n",
              "      <th>High</th>\n",
              "      <th>Low</th>\n",
              "      <th>Last</th>\n",
              "      <th>Close</th>\n",
              "      <th>Total Trade Quantity</th>\n",
              "      <th>Turnover (Lacs)</th>\n",
              "    </tr>\n",
              "  </thead>\n",
              "  <tbody>\n",
              "    <tr>\n",
              "      <th>2030</th>\n",
              "      <td>2010-07-27</td>\n",
              "      <td>117.6</td>\n",
              "      <td>119.50</td>\n",
              "      <td>112.00</td>\n",
              "      <td>118.80</td>\n",
              "      <td>118.65</td>\n",
              "      <td>586100</td>\n",
              "      <td>694.98</td>\n",
              "    </tr>\n",
              "    <tr>\n",
              "      <th>2031</th>\n",
              "      <td>2010-07-26</td>\n",
              "      <td>120.1</td>\n",
              "      <td>121.00</td>\n",
              "      <td>117.10</td>\n",
              "      <td>117.10</td>\n",
              "      <td>117.60</td>\n",
              "      <td>658440</td>\n",
              "      <td>780.01</td>\n",
              "    </tr>\n",
              "    <tr>\n",
              "      <th>2032</th>\n",
              "      <td>2010-07-23</td>\n",
              "      <td>121.8</td>\n",
              "      <td>121.95</td>\n",
              "      <td>120.25</td>\n",
              "      <td>120.35</td>\n",
              "      <td>120.65</td>\n",
              "      <td>281312</td>\n",
              "      <td>340.31</td>\n",
              "    </tr>\n",
              "    <tr>\n",
              "      <th>2033</th>\n",
              "      <td>2010-07-22</td>\n",
              "      <td>120.3</td>\n",
              "      <td>122.00</td>\n",
              "      <td>120.25</td>\n",
              "      <td>120.75</td>\n",
              "      <td>120.90</td>\n",
              "      <td>293312</td>\n",
              "      <td>355.17</td>\n",
              "    </tr>\n",
              "    <tr>\n",
              "      <th>2034</th>\n",
              "      <td>2010-07-21</td>\n",
              "      <td>122.1</td>\n",
              "      <td>123.00</td>\n",
              "      <td>121.05</td>\n",
              "      <td>121.10</td>\n",
              "      <td>121.55</td>\n",
              "      <td>658666</td>\n",
              "      <td>803.56</td>\n",
              "    </tr>\n",
              "  </tbody>\n",
              "</table>\n",
              "</div>\n",
              "    <div class=\"colab-df-buttons\">\n",
              "\n",
              "  <div class=\"colab-df-container\">\n",
              "    <button class=\"colab-df-convert\" onclick=\"convertToInteractive('df-ede8970e-61e8-4e83-9fab-740bd3c972e9')\"\n",
              "            title=\"Convert this dataframe to an interactive table.\"\n",
              "            style=\"display:none;\">\n",
              "\n",
              "  <svg xmlns=\"http://www.w3.org/2000/svg\" height=\"24px\" viewBox=\"0 -960 960 960\">\n",
              "    <path d=\"M120-120v-720h720v720H120Zm60-500h600v-160H180v160Zm220 220h160v-160H400v160Zm0 220h160v-160H400v160ZM180-400h160v-160H180v160Zm440 0h160v-160H620v160ZM180-180h160v-160H180v160Zm440 0h160v-160H620v160Z\"/>\n",
              "  </svg>\n",
              "    </button>\n",
              "\n",
              "  <style>\n",
              "    .colab-df-container {\n",
              "      display:flex;\n",
              "      gap: 12px;\n",
              "    }\n",
              "\n",
              "    .colab-df-convert {\n",
              "      background-color: #E8F0FE;\n",
              "      border: none;\n",
              "      border-radius: 50%;\n",
              "      cursor: pointer;\n",
              "      display: none;\n",
              "      fill: #1967D2;\n",
              "      height: 32px;\n",
              "      padding: 0 0 0 0;\n",
              "      width: 32px;\n",
              "    }\n",
              "\n",
              "    .colab-df-convert:hover {\n",
              "      background-color: #E2EBFA;\n",
              "      box-shadow: 0px 1px 2px rgba(60, 64, 67, 0.3), 0px 1px 3px 1px rgba(60, 64, 67, 0.15);\n",
              "      fill: #174EA6;\n",
              "    }\n",
              "\n",
              "    .colab-df-buttons div {\n",
              "      margin-bottom: 4px;\n",
              "    }\n",
              "\n",
              "    [theme=dark] .colab-df-convert {\n",
              "      background-color: #3B4455;\n",
              "      fill: #D2E3FC;\n",
              "    }\n",
              "\n",
              "    [theme=dark] .colab-df-convert:hover {\n",
              "      background-color: #434B5C;\n",
              "      box-shadow: 0px 1px 3px 1px rgba(0, 0, 0, 0.15);\n",
              "      filter: drop-shadow(0px 1px 2px rgba(0, 0, 0, 0.3));\n",
              "      fill: #FFFFFF;\n",
              "    }\n",
              "  </style>\n",
              "\n",
              "    <script>\n",
              "      const buttonEl =\n",
              "        document.querySelector('#df-ede8970e-61e8-4e83-9fab-740bd3c972e9 button.colab-df-convert');\n",
              "      buttonEl.style.display =\n",
              "        google.colab.kernel.accessAllowed ? 'block' : 'none';\n",
              "\n",
              "      async function convertToInteractive(key) {\n",
              "        const element = document.querySelector('#df-ede8970e-61e8-4e83-9fab-740bd3c972e9');\n",
              "        const dataTable =\n",
              "          await google.colab.kernel.invokeFunction('convertToInteractive',\n",
              "                                                    [key], {});\n",
              "        if (!dataTable) return;\n",
              "\n",
              "        const docLinkHtml = 'Like what you see? Visit the ' +\n",
              "          '<a target=\"_blank\" href=https://colab.research.google.com/notebooks/data_table.ipynb>data table notebook</a>'\n",
              "          + ' to learn more about interactive tables.';\n",
              "        element.innerHTML = '';\n",
              "        dataTable['output_type'] = 'display_data';\n",
              "        await google.colab.output.renderOutput(dataTable, element);\n",
              "        const docLink = document.createElement('div');\n",
              "        docLink.innerHTML = docLinkHtml;\n",
              "        element.appendChild(docLink);\n",
              "      }\n",
              "    </script>\n",
              "  </div>\n",
              "\n",
              "\n",
              "<div id=\"df-e69805bd-7c35-4ae6-9bcd-ef0338facf97\">\n",
              "  <button class=\"colab-df-quickchart\" onclick=\"quickchart('df-e69805bd-7c35-4ae6-9bcd-ef0338facf97')\"\n",
              "            title=\"Suggest charts.\"\n",
              "            style=\"display:none;\">\n",
              "\n",
              "<svg xmlns=\"http://www.w3.org/2000/svg\" height=\"24px\"viewBox=\"0 0 24 24\"\n",
              "     width=\"24px\">\n",
              "    <g>\n",
              "        <path d=\"M19 3H5c-1.1 0-2 .9-2 2v14c0 1.1.9 2 2 2h14c1.1 0 2-.9 2-2V5c0-1.1-.9-2-2-2zM9 17H7v-7h2v7zm4 0h-2V7h2v10zm4 0h-2v-4h2v4z\"/>\n",
              "    </g>\n",
              "</svg>\n",
              "  </button>\n",
              "\n",
              "<style>\n",
              "  .colab-df-quickchart {\n",
              "    background-color: #E8F0FE;\n",
              "    border: none;\n",
              "    border-radius: 50%;\n",
              "    cursor: pointer;\n",
              "    display: none;\n",
              "    fill: #1967D2;\n",
              "    height: 32px;\n",
              "    padding: 0 0 0 0;\n",
              "    width: 32px;\n",
              "  }\n",
              "\n",
              "  .colab-df-quickchart:hover {\n",
              "    background-color: #E2EBFA;\n",
              "    box-shadow: 0px 1px 2px rgba(60, 64, 67, 0.3), 0px 1px 3px 1px rgba(60, 64, 67, 0.15);\n",
              "    fill: #174EA6;\n",
              "  }\n",
              "\n",
              "  [theme=dark] .colab-df-quickchart {\n",
              "    background-color: #3B4455;\n",
              "    fill: #D2E3FC;\n",
              "  }\n",
              "\n",
              "  [theme=dark] .colab-df-quickchart:hover {\n",
              "    background-color: #434B5C;\n",
              "    box-shadow: 0px 1px 3px 1px rgba(0, 0, 0, 0.15);\n",
              "    filter: drop-shadow(0px 1px 2px rgba(0, 0, 0, 0.3));\n",
              "    fill: #FFFFFF;\n",
              "  }\n",
              "</style>\n",
              "\n",
              "  <script>\n",
              "    async function quickchart(key) {\n",
              "      const charts = await google.colab.kernel.invokeFunction(\n",
              "          'suggestCharts', [key], {});\n",
              "    }\n",
              "    (() => {\n",
              "      let quickchartButtonEl =\n",
              "        document.querySelector('#df-e69805bd-7c35-4ae6-9bcd-ef0338facf97 button');\n",
              "      quickchartButtonEl.style.display =\n",
              "        google.colab.kernel.accessAllowed ? 'block' : 'none';\n",
              "    })();\n",
              "  </script>\n",
              "</div>\n",
              "    </div>\n",
              "  </div>\n"
            ]
          },
          "metadata": {},
          "execution_count": 4
        }
      ],
      "source": [
        "tg.tail()"
      ]
    },
    {
      "cell_type": "markdown",
      "id": "121d49ea",
      "metadata": {
        "id": "121d49ea"
      },
      "source": [
        "#### Displaying the basic statistics about data"
      ]
    },
    {
      "cell_type": "code",
      "execution_count": null,
      "id": "d6ed881e",
      "metadata": {
        "colab": {
          "base_uri": "https://localhost:8080/",
          "height": 300
        },
        "id": "d6ed881e",
        "outputId": "229f61ae-1d93-437f-f470-466e1be1d887"
      },
      "outputs": [
        {
          "output_type": "execute_result",
          "data": {
            "text/plain": [
              "              Open         High          Low         Last       Close  \\\n",
              "count  2035.000000  2035.000000  2035.000000  2035.000000  2035.00000   \n",
              "mean    149.713735   151.992826   147.293931   149.474251   149.45027   \n",
              "std      48.664509    49.413109    47.931958    48.732570    48.71204   \n",
              "min      81.100000    82.800000    80.000000    81.000000    80.95000   \n",
              "25%     120.025000   122.100000   118.300000   120.075000   120.05000   \n",
              "50%     141.500000   143.400000   139.600000   141.100000   141.25000   \n",
              "75%     157.175000   159.400000   155.150000   156.925000   156.90000   \n",
              "max     327.700000   328.750000   321.650000   325.950000   325.75000   \n",
              "\n",
              "       Total Trade Quantity  Turnover (Lacs)  \n",
              "count          2.035000e+03      2035.000000  \n",
              "mean           2.335681e+06      3899.980565  \n",
              "std            2.091778e+06      4570.767877  \n",
              "min            3.961000e+04        37.040000  \n",
              "25%            1.146444e+06      1427.460000  \n",
              "50%            1.783456e+06      2512.030000  \n",
              "75%            2.813594e+06      4539.015000  \n",
              "max            2.919102e+07     55755.080000  "
            ],
            "text/html": [
              "\n",
              "  <div id=\"df-2327eaaf-5d34-44ba-9a00-91481966bf6f\" class=\"colab-df-container\">\n",
              "    <div>\n",
              "<style scoped>\n",
              "    .dataframe tbody tr th:only-of-type {\n",
              "        vertical-align: middle;\n",
              "    }\n",
              "\n",
              "    .dataframe tbody tr th {\n",
              "        vertical-align: top;\n",
              "    }\n",
              "\n",
              "    .dataframe thead th {\n",
              "        text-align: right;\n",
              "    }\n",
              "</style>\n",
              "<table border=\"1\" class=\"dataframe\">\n",
              "  <thead>\n",
              "    <tr style=\"text-align: right;\">\n",
              "      <th></th>\n",
              "      <th>Open</th>\n",
              "      <th>High</th>\n",
              "      <th>Low</th>\n",
              "      <th>Last</th>\n",
              "      <th>Close</th>\n",
              "      <th>Total Trade Quantity</th>\n",
              "      <th>Turnover (Lacs)</th>\n",
              "    </tr>\n",
              "  </thead>\n",
              "  <tbody>\n",
              "    <tr>\n",
              "      <th>count</th>\n",
              "      <td>2035.000000</td>\n",
              "      <td>2035.000000</td>\n",
              "      <td>2035.000000</td>\n",
              "      <td>2035.000000</td>\n",
              "      <td>2035.00000</td>\n",
              "      <td>2.035000e+03</td>\n",
              "      <td>2035.000000</td>\n",
              "    </tr>\n",
              "    <tr>\n",
              "      <th>mean</th>\n",
              "      <td>149.713735</td>\n",
              "      <td>151.992826</td>\n",
              "      <td>147.293931</td>\n",
              "      <td>149.474251</td>\n",
              "      <td>149.45027</td>\n",
              "      <td>2.335681e+06</td>\n",
              "      <td>3899.980565</td>\n",
              "    </tr>\n",
              "    <tr>\n",
              "      <th>std</th>\n",
              "      <td>48.664509</td>\n",
              "      <td>49.413109</td>\n",
              "      <td>47.931958</td>\n",
              "      <td>48.732570</td>\n",
              "      <td>48.71204</td>\n",
              "      <td>2.091778e+06</td>\n",
              "      <td>4570.767877</td>\n",
              "    </tr>\n",
              "    <tr>\n",
              "      <th>min</th>\n",
              "      <td>81.100000</td>\n",
              "      <td>82.800000</td>\n",
              "      <td>80.000000</td>\n",
              "      <td>81.000000</td>\n",
              "      <td>80.95000</td>\n",
              "      <td>3.961000e+04</td>\n",
              "      <td>37.040000</td>\n",
              "    </tr>\n",
              "    <tr>\n",
              "      <th>25%</th>\n",
              "      <td>120.025000</td>\n",
              "      <td>122.100000</td>\n",
              "      <td>118.300000</td>\n",
              "      <td>120.075000</td>\n",
              "      <td>120.05000</td>\n",
              "      <td>1.146444e+06</td>\n",
              "      <td>1427.460000</td>\n",
              "    </tr>\n",
              "    <tr>\n",
              "      <th>50%</th>\n",
              "      <td>141.500000</td>\n",
              "      <td>143.400000</td>\n",
              "      <td>139.600000</td>\n",
              "      <td>141.100000</td>\n",
              "      <td>141.25000</td>\n",
              "      <td>1.783456e+06</td>\n",
              "      <td>2512.030000</td>\n",
              "    </tr>\n",
              "    <tr>\n",
              "      <th>75%</th>\n",
              "      <td>157.175000</td>\n",
              "      <td>159.400000</td>\n",
              "      <td>155.150000</td>\n",
              "      <td>156.925000</td>\n",
              "      <td>156.90000</td>\n",
              "      <td>2.813594e+06</td>\n",
              "      <td>4539.015000</td>\n",
              "    </tr>\n",
              "    <tr>\n",
              "      <th>max</th>\n",
              "      <td>327.700000</td>\n",
              "      <td>328.750000</td>\n",
              "      <td>321.650000</td>\n",
              "      <td>325.950000</td>\n",
              "      <td>325.75000</td>\n",
              "      <td>2.919102e+07</td>\n",
              "      <td>55755.080000</td>\n",
              "    </tr>\n",
              "  </tbody>\n",
              "</table>\n",
              "</div>\n",
              "    <div class=\"colab-df-buttons\">\n",
              "\n",
              "  <div class=\"colab-df-container\">\n",
              "    <button class=\"colab-df-convert\" onclick=\"convertToInteractive('df-2327eaaf-5d34-44ba-9a00-91481966bf6f')\"\n",
              "            title=\"Convert this dataframe to an interactive table.\"\n",
              "            style=\"display:none;\">\n",
              "\n",
              "  <svg xmlns=\"http://www.w3.org/2000/svg\" height=\"24px\" viewBox=\"0 -960 960 960\">\n",
              "    <path d=\"M120-120v-720h720v720H120Zm60-500h600v-160H180v160Zm220 220h160v-160H400v160Zm0 220h160v-160H400v160ZM180-400h160v-160H180v160Zm440 0h160v-160H620v160ZM180-180h160v-160H180v160Zm440 0h160v-160H620v160Z\"/>\n",
              "  </svg>\n",
              "    </button>\n",
              "\n",
              "  <style>\n",
              "    .colab-df-container {\n",
              "      display:flex;\n",
              "      gap: 12px;\n",
              "    }\n",
              "\n",
              "    .colab-df-convert {\n",
              "      background-color: #E8F0FE;\n",
              "      border: none;\n",
              "      border-radius: 50%;\n",
              "      cursor: pointer;\n",
              "      display: none;\n",
              "      fill: #1967D2;\n",
              "      height: 32px;\n",
              "      padding: 0 0 0 0;\n",
              "      width: 32px;\n",
              "    }\n",
              "\n",
              "    .colab-df-convert:hover {\n",
              "      background-color: #E2EBFA;\n",
              "      box-shadow: 0px 1px 2px rgba(60, 64, 67, 0.3), 0px 1px 3px 1px rgba(60, 64, 67, 0.15);\n",
              "      fill: #174EA6;\n",
              "    }\n",
              "\n",
              "    .colab-df-buttons div {\n",
              "      margin-bottom: 4px;\n",
              "    }\n",
              "\n",
              "    [theme=dark] .colab-df-convert {\n",
              "      background-color: #3B4455;\n",
              "      fill: #D2E3FC;\n",
              "    }\n",
              "\n",
              "    [theme=dark] .colab-df-convert:hover {\n",
              "      background-color: #434B5C;\n",
              "      box-shadow: 0px 1px 3px 1px rgba(0, 0, 0, 0.15);\n",
              "      filter: drop-shadow(0px 1px 2px rgba(0, 0, 0, 0.3));\n",
              "      fill: #FFFFFF;\n",
              "    }\n",
              "  </style>\n",
              "\n",
              "    <script>\n",
              "      const buttonEl =\n",
              "        document.querySelector('#df-2327eaaf-5d34-44ba-9a00-91481966bf6f button.colab-df-convert');\n",
              "      buttonEl.style.display =\n",
              "        google.colab.kernel.accessAllowed ? 'block' : 'none';\n",
              "\n",
              "      async function convertToInteractive(key) {\n",
              "        const element = document.querySelector('#df-2327eaaf-5d34-44ba-9a00-91481966bf6f');\n",
              "        const dataTable =\n",
              "          await google.colab.kernel.invokeFunction('convertToInteractive',\n",
              "                                                    [key], {});\n",
              "        if (!dataTable) return;\n",
              "\n",
              "        const docLinkHtml = 'Like what you see? Visit the ' +\n",
              "          '<a target=\"_blank\" href=https://colab.research.google.com/notebooks/data_table.ipynb>data table notebook</a>'\n",
              "          + ' to learn more about interactive tables.';\n",
              "        element.innerHTML = '';\n",
              "        dataTable['output_type'] = 'display_data';\n",
              "        await google.colab.output.renderOutput(dataTable, element);\n",
              "        const docLink = document.createElement('div');\n",
              "        docLink.innerHTML = docLinkHtml;\n",
              "        element.appendChild(docLink);\n",
              "      }\n",
              "    </script>\n",
              "  </div>\n",
              "\n",
              "\n",
              "<div id=\"df-9e2ab4aa-df55-4cac-8ce4-d5346aacd180\">\n",
              "  <button class=\"colab-df-quickchart\" onclick=\"quickchart('df-9e2ab4aa-df55-4cac-8ce4-d5346aacd180')\"\n",
              "            title=\"Suggest charts.\"\n",
              "            style=\"display:none;\">\n",
              "\n",
              "<svg xmlns=\"http://www.w3.org/2000/svg\" height=\"24px\"viewBox=\"0 0 24 24\"\n",
              "     width=\"24px\">\n",
              "    <g>\n",
              "        <path d=\"M19 3H5c-1.1 0-2 .9-2 2v14c0 1.1.9 2 2 2h14c1.1 0 2-.9 2-2V5c0-1.1-.9-2-2-2zM9 17H7v-7h2v7zm4 0h-2V7h2v10zm4 0h-2v-4h2v4z\"/>\n",
              "    </g>\n",
              "</svg>\n",
              "  </button>\n",
              "\n",
              "<style>\n",
              "  .colab-df-quickchart {\n",
              "    background-color: #E8F0FE;\n",
              "    border: none;\n",
              "    border-radius: 50%;\n",
              "    cursor: pointer;\n",
              "    display: none;\n",
              "    fill: #1967D2;\n",
              "    height: 32px;\n",
              "    padding: 0 0 0 0;\n",
              "    width: 32px;\n",
              "  }\n",
              "\n",
              "  .colab-df-quickchart:hover {\n",
              "    background-color: #E2EBFA;\n",
              "    box-shadow: 0px 1px 2px rgba(60, 64, 67, 0.3), 0px 1px 3px 1px rgba(60, 64, 67, 0.15);\n",
              "    fill: #174EA6;\n",
              "  }\n",
              "\n",
              "  [theme=dark] .colab-df-quickchart {\n",
              "    background-color: #3B4455;\n",
              "    fill: #D2E3FC;\n",
              "  }\n",
              "\n",
              "  [theme=dark] .colab-df-quickchart:hover {\n",
              "    background-color: #434B5C;\n",
              "    box-shadow: 0px 1px 3px 1px rgba(0, 0, 0, 0.15);\n",
              "    filter: drop-shadow(0px 1px 2px rgba(0, 0, 0, 0.3));\n",
              "    fill: #FFFFFF;\n",
              "  }\n",
              "</style>\n",
              "\n",
              "  <script>\n",
              "    async function quickchart(key) {\n",
              "      const charts = await google.colab.kernel.invokeFunction(\n",
              "          'suggestCharts', [key], {});\n",
              "    }\n",
              "    (() => {\n",
              "      let quickchartButtonEl =\n",
              "        document.querySelector('#df-9e2ab4aa-df55-4cac-8ce4-d5346aacd180 button');\n",
              "      quickchartButtonEl.style.display =\n",
              "        google.colab.kernel.accessAllowed ? 'block' : 'none';\n",
              "    })();\n",
              "  </script>\n",
              "</div>\n",
              "    </div>\n",
              "  </div>\n"
            ]
          },
          "metadata": {},
          "execution_count": 5
        }
      ],
      "source": [
        "tg.describe()"
      ]
    },
    {
      "cell_type": "markdown",
      "id": "2b3e86cd",
      "metadata": {
        "id": "2b3e86cd"
      },
      "source": [
        "## Sorting the data"
      ]
    },
    {
      "cell_type": "markdown",
      "id": "588a95db",
      "metadata": {
        "id": "588a95db"
      },
      "source": [
        "#### Checking for null values"
      ]
    },
    {
      "cell_type": "code",
      "execution_count": null,
      "id": "379e365f",
      "metadata": {
        "colab": {
          "base_uri": "https://localhost:8080/",
          "height": 300
        },
        "id": "379e365f",
        "outputId": "f22e08fe-140c-432b-f9cb-2ff02c8ddb2d"
      },
      "outputs": [
        {
          "output_type": "execute_result",
          "data": {
            "text/plain": [
              "            column_name  percentage\n",
              "0                  Date         0.0\n",
              "1                  Open         0.0\n",
              "2                  High         0.0\n",
              "3                   Low         0.0\n",
              "4                  Last         0.0\n",
              "5                 Close         0.0\n",
              "6  Total Trade Quantity         0.0\n",
              "7       Turnover (Lacs)         0.0"
            ],
            "text/html": [
              "\n",
              "  <div id=\"df-201ea7f5-6966-4ee8-af61-bac1c358cb83\" class=\"colab-df-container\">\n",
              "    <div>\n",
              "<style scoped>\n",
              "    .dataframe tbody tr th:only-of-type {\n",
              "        vertical-align: middle;\n",
              "    }\n",
              "\n",
              "    .dataframe tbody tr th {\n",
              "        vertical-align: top;\n",
              "    }\n",
              "\n",
              "    .dataframe thead th {\n",
              "        text-align: right;\n",
              "    }\n",
              "</style>\n",
              "<table border=\"1\" class=\"dataframe\">\n",
              "  <thead>\n",
              "    <tr style=\"text-align: right;\">\n",
              "      <th></th>\n",
              "      <th>column_name</th>\n",
              "      <th>percentage</th>\n",
              "    </tr>\n",
              "  </thead>\n",
              "  <tbody>\n",
              "    <tr>\n",
              "      <th>0</th>\n",
              "      <td>Date</td>\n",
              "      <td>0.0</td>\n",
              "    </tr>\n",
              "    <tr>\n",
              "      <th>1</th>\n",
              "      <td>Open</td>\n",
              "      <td>0.0</td>\n",
              "    </tr>\n",
              "    <tr>\n",
              "      <th>2</th>\n",
              "      <td>High</td>\n",
              "      <td>0.0</td>\n",
              "    </tr>\n",
              "    <tr>\n",
              "      <th>3</th>\n",
              "      <td>Low</td>\n",
              "      <td>0.0</td>\n",
              "    </tr>\n",
              "    <tr>\n",
              "      <th>4</th>\n",
              "      <td>Last</td>\n",
              "      <td>0.0</td>\n",
              "    </tr>\n",
              "    <tr>\n",
              "      <th>5</th>\n",
              "      <td>Close</td>\n",
              "      <td>0.0</td>\n",
              "    </tr>\n",
              "    <tr>\n",
              "      <th>6</th>\n",
              "      <td>Total Trade Quantity</td>\n",
              "      <td>0.0</td>\n",
              "    </tr>\n",
              "    <tr>\n",
              "      <th>7</th>\n",
              "      <td>Turnover (Lacs)</td>\n",
              "      <td>0.0</td>\n",
              "    </tr>\n",
              "  </tbody>\n",
              "</table>\n",
              "</div>\n",
              "    <div class=\"colab-df-buttons\">\n",
              "\n",
              "  <div class=\"colab-df-container\">\n",
              "    <button class=\"colab-df-convert\" onclick=\"convertToInteractive('df-201ea7f5-6966-4ee8-af61-bac1c358cb83')\"\n",
              "            title=\"Convert this dataframe to an interactive table.\"\n",
              "            style=\"display:none;\">\n",
              "\n",
              "  <svg xmlns=\"http://www.w3.org/2000/svg\" height=\"24px\" viewBox=\"0 -960 960 960\">\n",
              "    <path d=\"M120-120v-720h720v720H120Zm60-500h600v-160H180v160Zm220 220h160v-160H400v160Zm0 220h160v-160H400v160ZM180-400h160v-160H180v160Zm440 0h160v-160H620v160ZM180-180h160v-160H180v160Zm440 0h160v-160H620v160Z\"/>\n",
              "  </svg>\n",
              "    </button>\n",
              "\n",
              "  <style>\n",
              "    .colab-df-container {\n",
              "      display:flex;\n",
              "      gap: 12px;\n",
              "    }\n",
              "\n",
              "    .colab-df-convert {\n",
              "      background-color: #E8F0FE;\n",
              "      border: none;\n",
              "      border-radius: 50%;\n",
              "      cursor: pointer;\n",
              "      display: none;\n",
              "      fill: #1967D2;\n",
              "      height: 32px;\n",
              "      padding: 0 0 0 0;\n",
              "      width: 32px;\n",
              "    }\n",
              "\n",
              "    .colab-df-convert:hover {\n",
              "      background-color: #E2EBFA;\n",
              "      box-shadow: 0px 1px 2px rgba(60, 64, 67, 0.3), 0px 1px 3px 1px rgba(60, 64, 67, 0.15);\n",
              "      fill: #174EA6;\n",
              "    }\n",
              "\n",
              "    .colab-df-buttons div {\n",
              "      margin-bottom: 4px;\n",
              "    }\n",
              "\n",
              "    [theme=dark] .colab-df-convert {\n",
              "      background-color: #3B4455;\n",
              "      fill: #D2E3FC;\n",
              "    }\n",
              "\n",
              "    [theme=dark] .colab-df-convert:hover {\n",
              "      background-color: #434B5C;\n",
              "      box-shadow: 0px 1px 3px 1px rgba(0, 0, 0, 0.15);\n",
              "      filter: drop-shadow(0px 1px 2px rgba(0, 0, 0, 0.3));\n",
              "      fill: #FFFFFF;\n",
              "    }\n",
              "  </style>\n",
              "\n",
              "    <script>\n",
              "      const buttonEl =\n",
              "        document.querySelector('#df-201ea7f5-6966-4ee8-af61-bac1c358cb83 button.colab-df-convert');\n",
              "      buttonEl.style.display =\n",
              "        google.colab.kernel.accessAllowed ? 'block' : 'none';\n",
              "\n",
              "      async function convertToInteractive(key) {\n",
              "        const element = document.querySelector('#df-201ea7f5-6966-4ee8-af61-bac1c358cb83');\n",
              "        const dataTable =\n",
              "          await google.colab.kernel.invokeFunction('convertToInteractive',\n",
              "                                                    [key], {});\n",
              "        if (!dataTable) return;\n",
              "\n",
              "        const docLinkHtml = 'Like what you see? Visit the ' +\n",
              "          '<a target=\"_blank\" href=https://colab.research.google.com/notebooks/data_table.ipynb>data table notebook</a>'\n",
              "          + ' to learn more about interactive tables.';\n",
              "        element.innerHTML = '';\n",
              "        dataTable['output_type'] = 'display_data';\n",
              "        await google.colab.output.renderOutput(dataTable, element);\n",
              "        const docLink = document.createElement('div');\n",
              "        docLink.innerHTML = docLinkHtml;\n",
              "        element.appendChild(docLink);\n",
              "      }\n",
              "    </script>\n",
              "  </div>\n",
              "\n",
              "\n",
              "<div id=\"df-af32cd7a-ec26-45b1-b973-8792058e0c4e\">\n",
              "  <button class=\"colab-df-quickchart\" onclick=\"quickchart('df-af32cd7a-ec26-45b1-b973-8792058e0c4e')\"\n",
              "            title=\"Suggest charts.\"\n",
              "            style=\"display:none;\">\n",
              "\n",
              "<svg xmlns=\"http://www.w3.org/2000/svg\" height=\"24px\"viewBox=\"0 0 24 24\"\n",
              "     width=\"24px\">\n",
              "    <g>\n",
              "        <path d=\"M19 3H5c-1.1 0-2 .9-2 2v14c0 1.1.9 2 2 2h14c1.1 0 2-.9 2-2V5c0-1.1-.9-2-2-2zM9 17H7v-7h2v7zm4 0h-2V7h2v10zm4 0h-2v-4h2v4z\"/>\n",
              "    </g>\n",
              "</svg>\n",
              "  </button>\n",
              "\n",
              "<style>\n",
              "  .colab-df-quickchart {\n",
              "    background-color: #E8F0FE;\n",
              "    border: none;\n",
              "    border-radius: 50%;\n",
              "    cursor: pointer;\n",
              "    display: none;\n",
              "    fill: #1967D2;\n",
              "    height: 32px;\n",
              "    padding: 0 0 0 0;\n",
              "    width: 32px;\n",
              "  }\n",
              "\n",
              "  .colab-df-quickchart:hover {\n",
              "    background-color: #E2EBFA;\n",
              "    box-shadow: 0px 1px 2px rgba(60, 64, 67, 0.3), 0px 1px 3px 1px rgba(60, 64, 67, 0.15);\n",
              "    fill: #174EA6;\n",
              "  }\n",
              "\n",
              "  [theme=dark] .colab-df-quickchart {\n",
              "    background-color: #3B4455;\n",
              "    fill: #D2E3FC;\n",
              "  }\n",
              "\n",
              "  [theme=dark] .colab-df-quickchart:hover {\n",
              "    background-color: #434B5C;\n",
              "    box-shadow: 0px 1px 3px 1px rgba(0, 0, 0, 0.15);\n",
              "    filter: drop-shadow(0px 1px 2px rgba(0, 0, 0, 0.3));\n",
              "    fill: #FFFFFF;\n",
              "  }\n",
              "</style>\n",
              "\n",
              "  <script>\n",
              "    async function quickchart(key) {\n",
              "      const charts = await google.colab.kernel.invokeFunction(\n",
              "          'suggestCharts', [key], {});\n",
              "    }\n",
              "    (() => {\n",
              "      let quickchartButtonEl =\n",
              "        document.querySelector('#df-af32cd7a-ec26-45b1-b973-8792058e0c4e button');\n",
              "      quickchartButtonEl.style.display =\n",
              "        google.colab.kernel.accessAllowed ? 'block' : 'none';\n",
              "    })();\n",
              "  </script>\n",
              "</div>\n",
              "    </div>\n",
              "  </div>\n"
            ]
          },
          "metadata": {},
          "execution_count": 6
        }
      ],
      "source": [
        "NAN = [(c, tg[c].isnull().mean()*100) for c in tg]\n",
        "NAN = pd.DataFrame(NAN, columns=['column_name', 'percentage'])\n",
        "NAN"
      ]
    },
    {
      "cell_type": "code",
      "execution_count": null,
      "id": "e6bc6cff",
      "metadata": {
        "colab": {
          "base_uri": "https://localhost:8080/",
          "height": 206
        },
        "id": "e6bc6cff",
        "outputId": "bd679316-4303-4f7b-9c25-845ec92d035e"
      },
      "outputs": [
        {
          "output_type": "execute_result",
          "data": {
            "text/plain": [
              "            Date   Open    High     Low    Last   Close  Total Trade Quantity  \\\n",
              "2034  2010-07-21  122.1  123.00  121.05  121.10  121.55                658666   \n",
              "2033  2010-07-22  120.3  122.00  120.25  120.75  120.90                293312   \n",
              "2032  2010-07-23  121.8  121.95  120.25  120.35  120.65                281312   \n",
              "2031  2010-07-26  120.1  121.00  117.10  117.10  117.60                658440   \n",
              "2030  2010-07-27  117.6  119.50  112.00  118.80  118.65                586100   \n",
              "\n",
              "      Turnover (Lacs)  \n",
              "2034           803.56  \n",
              "2033           355.17  \n",
              "2032           340.31  \n",
              "2031           780.01  \n",
              "2030           694.98  "
            ],
            "text/html": [
              "\n",
              "  <div id=\"df-c2dcde51-543c-40f9-bc4c-d107c70399cb\" class=\"colab-df-container\">\n",
              "    <div>\n",
              "<style scoped>\n",
              "    .dataframe tbody tr th:only-of-type {\n",
              "        vertical-align: middle;\n",
              "    }\n",
              "\n",
              "    .dataframe tbody tr th {\n",
              "        vertical-align: top;\n",
              "    }\n",
              "\n",
              "    .dataframe thead th {\n",
              "        text-align: right;\n",
              "    }\n",
              "</style>\n",
              "<table border=\"1\" class=\"dataframe\">\n",
              "  <thead>\n",
              "    <tr style=\"text-align: right;\">\n",
              "      <th></th>\n",
              "      <th>Date</th>\n",
              "      <th>Open</th>\n",
              "      <th>High</th>\n",
              "      <th>Low</th>\n",
              "      <th>Last</th>\n",
              "      <th>Close</th>\n",
              "      <th>Total Trade Quantity</th>\n",
              "      <th>Turnover (Lacs)</th>\n",
              "    </tr>\n",
              "  </thead>\n",
              "  <tbody>\n",
              "    <tr>\n",
              "      <th>2034</th>\n",
              "      <td>2010-07-21</td>\n",
              "      <td>122.1</td>\n",
              "      <td>123.00</td>\n",
              "      <td>121.05</td>\n",
              "      <td>121.10</td>\n",
              "      <td>121.55</td>\n",
              "      <td>658666</td>\n",
              "      <td>803.56</td>\n",
              "    </tr>\n",
              "    <tr>\n",
              "      <th>2033</th>\n",
              "      <td>2010-07-22</td>\n",
              "      <td>120.3</td>\n",
              "      <td>122.00</td>\n",
              "      <td>120.25</td>\n",
              "      <td>120.75</td>\n",
              "      <td>120.90</td>\n",
              "      <td>293312</td>\n",
              "      <td>355.17</td>\n",
              "    </tr>\n",
              "    <tr>\n",
              "      <th>2032</th>\n",
              "      <td>2010-07-23</td>\n",
              "      <td>121.8</td>\n",
              "      <td>121.95</td>\n",
              "      <td>120.25</td>\n",
              "      <td>120.35</td>\n",
              "      <td>120.65</td>\n",
              "      <td>281312</td>\n",
              "      <td>340.31</td>\n",
              "    </tr>\n",
              "    <tr>\n",
              "      <th>2031</th>\n",
              "      <td>2010-07-26</td>\n",
              "      <td>120.1</td>\n",
              "      <td>121.00</td>\n",
              "      <td>117.10</td>\n",
              "      <td>117.10</td>\n",
              "      <td>117.60</td>\n",
              "      <td>658440</td>\n",
              "      <td>780.01</td>\n",
              "    </tr>\n",
              "    <tr>\n",
              "      <th>2030</th>\n",
              "      <td>2010-07-27</td>\n",
              "      <td>117.6</td>\n",
              "      <td>119.50</td>\n",
              "      <td>112.00</td>\n",
              "      <td>118.80</td>\n",
              "      <td>118.65</td>\n",
              "      <td>586100</td>\n",
              "      <td>694.98</td>\n",
              "    </tr>\n",
              "  </tbody>\n",
              "</table>\n",
              "</div>\n",
              "    <div class=\"colab-df-buttons\">\n",
              "\n",
              "  <div class=\"colab-df-container\">\n",
              "    <button class=\"colab-df-convert\" onclick=\"convertToInteractive('df-c2dcde51-543c-40f9-bc4c-d107c70399cb')\"\n",
              "            title=\"Convert this dataframe to an interactive table.\"\n",
              "            style=\"display:none;\">\n",
              "\n",
              "  <svg xmlns=\"http://www.w3.org/2000/svg\" height=\"24px\" viewBox=\"0 -960 960 960\">\n",
              "    <path d=\"M120-120v-720h720v720H120Zm60-500h600v-160H180v160Zm220 220h160v-160H400v160Zm0 220h160v-160H400v160ZM180-400h160v-160H180v160Zm440 0h160v-160H620v160ZM180-180h160v-160H180v160Zm440 0h160v-160H620v160Z\"/>\n",
              "  </svg>\n",
              "    </button>\n",
              "\n",
              "  <style>\n",
              "    .colab-df-container {\n",
              "      display:flex;\n",
              "      gap: 12px;\n",
              "    }\n",
              "\n",
              "    .colab-df-convert {\n",
              "      background-color: #E8F0FE;\n",
              "      border: none;\n",
              "      border-radius: 50%;\n",
              "      cursor: pointer;\n",
              "      display: none;\n",
              "      fill: #1967D2;\n",
              "      height: 32px;\n",
              "      padding: 0 0 0 0;\n",
              "      width: 32px;\n",
              "    }\n",
              "\n",
              "    .colab-df-convert:hover {\n",
              "      background-color: #E2EBFA;\n",
              "      box-shadow: 0px 1px 2px rgba(60, 64, 67, 0.3), 0px 1px 3px 1px rgba(60, 64, 67, 0.15);\n",
              "      fill: #174EA6;\n",
              "    }\n",
              "\n",
              "    .colab-df-buttons div {\n",
              "      margin-bottom: 4px;\n",
              "    }\n",
              "\n",
              "    [theme=dark] .colab-df-convert {\n",
              "      background-color: #3B4455;\n",
              "      fill: #D2E3FC;\n",
              "    }\n",
              "\n",
              "    [theme=dark] .colab-df-convert:hover {\n",
              "      background-color: #434B5C;\n",
              "      box-shadow: 0px 1px 3px 1px rgba(0, 0, 0, 0.15);\n",
              "      filter: drop-shadow(0px 1px 2px rgba(0, 0, 0, 0.3));\n",
              "      fill: #FFFFFF;\n",
              "    }\n",
              "  </style>\n",
              "\n",
              "    <script>\n",
              "      const buttonEl =\n",
              "        document.querySelector('#df-c2dcde51-543c-40f9-bc4c-d107c70399cb button.colab-df-convert');\n",
              "      buttonEl.style.display =\n",
              "        google.colab.kernel.accessAllowed ? 'block' : 'none';\n",
              "\n",
              "      async function convertToInteractive(key) {\n",
              "        const element = document.querySelector('#df-c2dcde51-543c-40f9-bc4c-d107c70399cb');\n",
              "        const dataTable =\n",
              "          await google.colab.kernel.invokeFunction('convertToInteractive',\n",
              "                                                    [key], {});\n",
              "        if (!dataTable) return;\n",
              "\n",
              "        const docLinkHtml = 'Like what you see? Visit the ' +\n",
              "          '<a target=\"_blank\" href=https://colab.research.google.com/notebooks/data_table.ipynb>data table notebook</a>'\n",
              "          + ' to learn more about interactive tables.';\n",
              "        element.innerHTML = '';\n",
              "        dataTable['output_type'] = 'display_data';\n",
              "        await google.colab.output.renderOutput(dataTable, element);\n",
              "        const docLink = document.createElement('div');\n",
              "        docLink.innerHTML = docLinkHtml;\n",
              "        element.appendChild(docLink);\n",
              "      }\n",
              "    </script>\n",
              "  </div>\n",
              "\n",
              "\n",
              "<div id=\"df-9b4555fd-b951-4cd2-8786-2ac02fa3e743\">\n",
              "  <button class=\"colab-df-quickchart\" onclick=\"quickchart('df-9b4555fd-b951-4cd2-8786-2ac02fa3e743')\"\n",
              "            title=\"Suggest charts.\"\n",
              "            style=\"display:none;\">\n",
              "\n",
              "<svg xmlns=\"http://www.w3.org/2000/svg\" height=\"24px\"viewBox=\"0 0 24 24\"\n",
              "     width=\"24px\">\n",
              "    <g>\n",
              "        <path d=\"M19 3H5c-1.1 0-2 .9-2 2v14c0 1.1.9 2 2 2h14c1.1 0 2-.9 2-2V5c0-1.1-.9-2-2-2zM9 17H7v-7h2v7zm4 0h-2V7h2v10zm4 0h-2v-4h2v4z\"/>\n",
              "    </g>\n",
              "</svg>\n",
              "  </button>\n",
              "\n",
              "<style>\n",
              "  .colab-df-quickchart {\n",
              "    background-color: #E8F0FE;\n",
              "    border: none;\n",
              "    border-radius: 50%;\n",
              "    cursor: pointer;\n",
              "    display: none;\n",
              "    fill: #1967D2;\n",
              "    height: 32px;\n",
              "    padding: 0 0 0 0;\n",
              "    width: 32px;\n",
              "  }\n",
              "\n",
              "  .colab-df-quickchart:hover {\n",
              "    background-color: #E2EBFA;\n",
              "    box-shadow: 0px 1px 2px rgba(60, 64, 67, 0.3), 0px 1px 3px 1px rgba(60, 64, 67, 0.15);\n",
              "    fill: #174EA6;\n",
              "  }\n",
              "\n",
              "  [theme=dark] .colab-df-quickchart {\n",
              "    background-color: #3B4455;\n",
              "    fill: #D2E3FC;\n",
              "  }\n",
              "\n",
              "  [theme=dark] .colab-df-quickchart:hover {\n",
              "    background-color: #434B5C;\n",
              "    box-shadow: 0px 1px 3px 1px rgba(0, 0, 0, 0.15);\n",
              "    filter: drop-shadow(0px 1px 2px rgba(0, 0, 0, 0.3));\n",
              "    fill: #FFFFFF;\n",
              "  }\n",
              "</style>\n",
              "\n",
              "  <script>\n",
              "    async function quickchart(key) {\n",
              "      const charts = await google.colab.kernel.invokeFunction(\n",
              "          'suggestCharts', [key], {});\n",
              "    }\n",
              "    (() => {\n",
              "      let quickchartButtonEl =\n",
              "        document.querySelector('#df-9b4555fd-b951-4cd2-8786-2ac02fa3e743 button');\n",
              "      quickchartButtonEl.style.display =\n",
              "        google.colab.kernel.accessAllowed ? 'block' : 'none';\n",
              "    })();\n",
              "  </script>\n",
              "</div>\n",
              "    </div>\n",
              "  </div>\n"
            ]
          },
          "metadata": {},
          "execution_count": 7
        }
      ],
      "source": [
        "srt=tg.sort_values(by='Date')\n",
        "srt.head()"
      ]
    },
    {
      "cell_type": "code",
      "execution_count": null,
      "id": "0c43926a",
      "metadata": {
        "id": "0c43926a"
      },
      "outputs": [],
      "source": [
        "srt.reset_index(inplace=True)"
      ]
    },
    {
      "cell_type": "code",
      "execution_count": null,
      "id": "84cf90f5",
      "metadata": {
        "colab": {
          "base_uri": "https://localhost:8080/",
          "height": 206
        },
        "id": "84cf90f5",
        "outputId": "8b8af351-e15d-42e4-ad5f-287b7d2b58a8"
      },
      "outputs": [
        {
          "output_type": "execute_result",
          "data": {
            "text/plain": [
              "   index        Date   Open    High     Low    Last   Close  \\\n",
              "0   2034  2010-07-21  122.1  123.00  121.05  121.10  121.55   \n",
              "1   2033  2010-07-22  120.3  122.00  120.25  120.75  120.90   \n",
              "2   2032  2010-07-23  121.8  121.95  120.25  120.35  120.65   \n",
              "3   2031  2010-07-26  120.1  121.00  117.10  117.10  117.60   \n",
              "4   2030  2010-07-27  117.6  119.50  112.00  118.80  118.65   \n",
              "\n",
              "   Total Trade Quantity  Turnover (Lacs)  \n",
              "0                658666           803.56  \n",
              "1                293312           355.17  \n",
              "2                281312           340.31  \n",
              "3                658440           780.01  \n",
              "4                586100           694.98  "
            ],
            "text/html": [
              "\n",
              "  <div id=\"df-5bf8d7ce-2f6c-4754-9c13-ce3db9ac7018\" class=\"colab-df-container\">\n",
              "    <div>\n",
              "<style scoped>\n",
              "    .dataframe tbody tr th:only-of-type {\n",
              "        vertical-align: middle;\n",
              "    }\n",
              "\n",
              "    .dataframe tbody tr th {\n",
              "        vertical-align: top;\n",
              "    }\n",
              "\n",
              "    .dataframe thead th {\n",
              "        text-align: right;\n",
              "    }\n",
              "</style>\n",
              "<table border=\"1\" class=\"dataframe\">\n",
              "  <thead>\n",
              "    <tr style=\"text-align: right;\">\n",
              "      <th></th>\n",
              "      <th>index</th>\n",
              "      <th>Date</th>\n",
              "      <th>Open</th>\n",
              "      <th>High</th>\n",
              "      <th>Low</th>\n",
              "      <th>Last</th>\n",
              "      <th>Close</th>\n",
              "      <th>Total Trade Quantity</th>\n",
              "      <th>Turnover (Lacs)</th>\n",
              "    </tr>\n",
              "  </thead>\n",
              "  <tbody>\n",
              "    <tr>\n",
              "      <th>0</th>\n",
              "      <td>2034</td>\n",
              "      <td>2010-07-21</td>\n",
              "      <td>122.1</td>\n",
              "      <td>123.00</td>\n",
              "      <td>121.05</td>\n",
              "      <td>121.10</td>\n",
              "      <td>121.55</td>\n",
              "      <td>658666</td>\n",
              "      <td>803.56</td>\n",
              "    </tr>\n",
              "    <tr>\n",
              "      <th>1</th>\n",
              "      <td>2033</td>\n",
              "      <td>2010-07-22</td>\n",
              "      <td>120.3</td>\n",
              "      <td>122.00</td>\n",
              "      <td>120.25</td>\n",
              "      <td>120.75</td>\n",
              "      <td>120.90</td>\n",
              "      <td>293312</td>\n",
              "      <td>355.17</td>\n",
              "    </tr>\n",
              "    <tr>\n",
              "      <th>2</th>\n",
              "      <td>2032</td>\n",
              "      <td>2010-07-23</td>\n",
              "      <td>121.8</td>\n",
              "      <td>121.95</td>\n",
              "      <td>120.25</td>\n",
              "      <td>120.35</td>\n",
              "      <td>120.65</td>\n",
              "      <td>281312</td>\n",
              "      <td>340.31</td>\n",
              "    </tr>\n",
              "    <tr>\n",
              "      <th>3</th>\n",
              "      <td>2031</td>\n",
              "      <td>2010-07-26</td>\n",
              "      <td>120.1</td>\n",
              "      <td>121.00</td>\n",
              "      <td>117.10</td>\n",
              "      <td>117.10</td>\n",
              "      <td>117.60</td>\n",
              "      <td>658440</td>\n",
              "      <td>780.01</td>\n",
              "    </tr>\n",
              "    <tr>\n",
              "      <th>4</th>\n",
              "      <td>2030</td>\n",
              "      <td>2010-07-27</td>\n",
              "      <td>117.6</td>\n",
              "      <td>119.50</td>\n",
              "      <td>112.00</td>\n",
              "      <td>118.80</td>\n",
              "      <td>118.65</td>\n",
              "      <td>586100</td>\n",
              "      <td>694.98</td>\n",
              "    </tr>\n",
              "  </tbody>\n",
              "</table>\n",
              "</div>\n",
              "    <div class=\"colab-df-buttons\">\n",
              "\n",
              "  <div class=\"colab-df-container\">\n",
              "    <button class=\"colab-df-convert\" onclick=\"convertToInteractive('df-5bf8d7ce-2f6c-4754-9c13-ce3db9ac7018')\"\n",
              "            title=\"Convert this dataframe to an interactive table.\"\n",
              "            style=\"display:none;\">\n",
              "\n",
              "  <svg xmlns=\"http://www.w3.org/2000/svg\" height=\"24px\" viewBox=\"0 -960 960 960\">\n",
              "    <path d=\"M120-120v-720h720v720H120Zm60-500h600v-160H180v160Zm220 220h160v-160H400v160Zm0 220h160v-160H400v160ZM180-400h160v-160H180v160Zm440 0h160v-160H620v160ZM180-180h160v-160H180v160Zm440 0h160v-160H620v160Z\"/>\n",
              "  </svg>\n",
              "    </button>\n",
              "\n",
              "  <style>\n",
              "    .colab-df-container {\n",
              "      display:flex;\n",
              "      gap: 12px;\n",
              "    }\n",
              "\n",
              "    .colab-df-convert {\n",
              "      background-color: #E8F0FE;\n",
              "      border: none;\n",
              "      border-radius: 50%;\n",
              "      cursor: pointer;\n",
              "      display: none;\n",
              "      fill: #1967D2;\n",
              "      height: 32px;\n",
              "      padding: 0 0 0 0;\n",
              "      width: 32px;\n",
              "    }\n",
              "\n",
              "    .colab-df-convert:hover {\n",
              "      background-color: #E2EBFA;\n",
              "      box-shadow: 0px 1px 2px rgba(60, 64, 67, 0.3), 0px 1px 3px 1px rgba(60, 64, 67, 0.15);\n",
              "      fill: #174EA6;\n",
              "    }\n",
              "\n",
              "    .colab-df-buttons div {\n",
              "      margin-bottom: 4px;\n",
              "    }\n",
              "\n",
              "    [theme=dark] .colab-df-convert {\n",
              "      background-color: #3B4455;\n",
              "      fill: #D2E3FC;\n",
              "    }\n",
              "\n",
              "    [theme=dark] .colab-df-convert:hover {\n",
              "      background-color: #434B5C;\n",
              "      box-shadow: 0px 1px 3px 1px rgba(0, 0, 0, 0.15);\n",
              "      filter: drop-shadow(0px 1px 2px rgba(0, 0, 0, 0.3));\n",
              "      fill: #FFFFFF;\n",
              "    }\n",
              "  </style>\n",
              "\n",
              "    <script>\n",
              "      const buttonEl =\n",
              "        document.querySelector('#df-5bf8d7ce-2f6c-4754-9c13-ce3db9ac7018 button.colab-df-convert');\n",
              "      buttonEl.style.display =\n",
              "        google.colab.kernel.accessAllowed ? 'block' : 'none';\n",
              "\n",
              "      async function convertToInteractive(key) {\n",
              "        const element = document.querySelector('#df-5bf8d7ce-2f6c-4754-9c13-ce3db9ac7018');\n",
              "        const dataTable =\n",
              "          await google.colab.kernel.invokeFunction('convertToInteractive',\n",
              "                                                    [key], {});\n",
              "        if (!dataTable) return;\n",
              "\n",
              "        const docLinkHtml = 'Like what you see? Visit the ' +\n",
              "          '<a target=\"_blank\" href=https://colab.research.google.com/notebooks/data_table.ipynb>data table notebook</a>'\n",
              "          + ' to learn more about interactive tables.';\n",
              "        element.innerHTML = '';\n",
              "        dataTable['output_type'] = 'display_data';\n",
              "        await google.colab.output.renderOutput(dataTable, element);\n",
              "        const docLink = document.createElement('div');\n",
              "        docLink.innerHTML = docLinkHtml;\n",
              "        element.appendChild(docLink);\n",
              "      }\n",
              "    </script>\n",
              "  </div>\n",
              "\n",
              "\n",
              "<div id=\"df-cb741350-cc67-4454-9d2b-7dbb1affecf4\">\n",
              "  <button class=\"colab-df-quickchart\" onclick=\"quickchart('df-cb741350-cc67-4454-9d2b-7dbb1affecf4')\"\n",
              "            title=\"Suggest charts.\"\n",
              "            style=\"display:none;\">\n",
              "\n",
              "<svg xmlns=\"http://www.w3.org/2000/svg\" height=\"24px\"viewBox=\"0 0 24 24\"\n",
              "     width=\"24px\">\n",
              "    <g>\n",
              "        <path d=\"M19 3H5c-1.1 0-2 .9-2 2v14c0 1.1.9 2 2 2h14c1.1 0 2-.9 2-2V5c0-1.1-.9-2-2-2zM9 17H7v-7h2v7zm4 0h-2V7h2v10zm4 0h-2v-4h2v4z\"/>\n",
              "    </g>\n",
              "</svg>\n",
              "  </button>\n",
              "\n",
              "<style>\n",
              "  .colab-df-quickchart {\n",
              "    background-color: #E8F0FE;\n",
              "    border: none;\n",
              "    border-radius: 50%;\n",
              "    cursor: pointer;\n",
              "    display: none;\n",
              "    fill: #1967D2;\n",
              "    height: 32px;\n",
              "    padding: 0 0 0 0;\n",
              "    width: 32px;\n",
              "  }\n",
              "\n",
              "  .colab-df-quickchart:hover {\n",
              "    background-color: #E2EBFA;\n",
              "    box-shadow: 0px 1px 2px rgba(60, 64, 67, 0.3), 0px 1px 3px 1px rgba(60, 64, 67, 0.15);\n",
              "    fill: #174EA6;\n",
              "  }\n",
              "\n",
              "  [theme=dark] .colab-df-quickchart {\n",
              "    background-color: #3B4455;\n",
              "    fill: #D2E3FC;\n",
              "  }\n",
              "\n",
              "  [theme=dark] .colab-df-quickchart:hover {\n",
              "    background-color: #434B5C;\n",
              "    box-shadow: 0px 1px 3px 1px rgba(0, 0, 0, 0.15);\n",
              "    filter: drop-shadow(0px 1px 2px rgba(0, 0, 0, 0.3));\n",
              "    fill: #FFFFFF;\n",
              "  }\n",
              "</style>\n",
              "\n",
              "  <script>\n",
              "    async function quickchart(key) {\n",
              "      const charts = await google.colab.kernel.invokeFunction(\n",
              "          'suggestCharts', [key], {});\n",
              "    }\n",
              "    (() => {\n",
              "      let quickchartButtonEl =\n",
              "        document.querySelector('#df-cb741350-cc67-4454-9d2b-7dbb1affecf4 button');\n",
              "      quickchartButtonEl.style.display =\n",
              "        google.colab.kernel.accessAllowed ? 'block' : 'none';\n",
              "    })();\n",
              "  </script>\n",
              "</div>\n",
              "    </div>\n",
              "  </div>\n"
            ]
          },
          "metadata": {},
          "execution_count": 9
        }
      ],
      "source": [
        "srt.head()"
      ]
    },
    {
      "cell_type": "code",
      "execution_count": null,
      "id": "6e24eacd",
      "metadata": {
        "id": "6e24eacd"
      },
      "outputs": [],
      "source": []
    },
    {
      "cell_type": "markdown",
      "id": "0830a6f5",
      "metadata": {
        "id": "0830a6f5"
      },
      "source": [
        "## Data Visualization"
      ]
    },
    {
      "cell_type": "markdown",
      "id": "79f9f0fa",
      "metadata": {
        "id": "79f9f0fa"
      },
      "source": [
        "#### Plotting the graph for the Date and Close"
      ]
    },
    {
      "cell_type": "code",
      "execution_count": null,
      "id": "7e25dc43",
      "metadata": {
        "colab": {
          "base_uri": "https://localhost:8080/",
          "height": 616
        },
        "id": "7e25dc43",
        "outputId": "0a221d89-cd28-4f17-a910-3fc7b7cfbae3"
      },
      "outputs": [
        {
          "output_type": "execute_result",
          "data": {
            "text/plain": [
              "[<matplotlib.lines.Line2D at 0x7e29e6b041c0>]"
            ]
          },
          "metadata": {},
          "execution_count": 10
        },
        {
          "output_type": "display_data",
          "data": {
            "text/plain": [
              "<Figure size 1000x700 with 1 Axes>"
            ],
            "image/png": "[encoded data removed]"
          },
          "metadata": {}
        }
      ],
      "source": [
        "plt.figure(figsize=(10,7))\n",
        "plt.plot(srt['Date'],srt['Close'])"
      ]
    },
    {
      "cell_type": "code",
      "execution_count": null,
      "id": "5be3cbe8",
      "metadata": {
        "colab": {
          "base_uri": "https://localhost:8080/"
        },
        "id": "5be3cbe8",
        "outputId": "9a409e2b-badb-4c33-9965-c3489b74ddc1"
      },
      "outputs": [
        {
          "output_type": "execute_result",
          "data": {
            "text/plain": [
              "0       121.55\n",
              "1       120.90\n",
              "2       120.65\n",
              "3       117.60\n",
              "4       118.65\n",
              "         ...  \n",
              "2030    233.30\n",
              "2031    236.10\n",
              "2032    234.25\n",
              "2033    233.25\n",
              "2034    233.75\n",
              "Name: Close, Length: 2035, dtype: float64"
            ]
          },
          "metadata": {},
          "execution_count": 11
        }
      ],
      "source": [
        "close_srt = srt['Close']\n",
        "close_srt"
      ]
    },
    {
      "cell_type": "markdown",
      "id": "6b86526c",
      "metadata": {
        "id": "6b86526c"
      },
      "source": [
        "## Feature Scaling(MinMax Scaler)"
      ]
    },
    {
      "cell_type": "code",
      "execution_count": null,
      "id": "7c536348",
      "metadata": {
        "colab": {
          "base_uri": "https://localhost:8080/"
        },
        "id": "7c536348",
        "outputId": "84628e8e-b5dd-4836-bbc3-6b4588c6579e"
      },
      "outputs": [
        {
          "output_type": "execute_result",
          "data": {
            "text/plain": [
              "array([[0.16584967],\n",
              "       [0.16319444],\n",
              "       [0.1621732 ],\n",
              "       ...,\n",
              "       [0.62622549],\n",
              "       [0.62214052],\n",
              "       [0.62418301]])"
            ]
          },
          "metadata": {},
          "execution_count": 12
        }
      ],
      "source": [
        "scaler = MinMaxScaler(feature_range=(0,1))\n",
        "close_srt = scaler.fit_transform(np.array(close_srt).reshape(-1, 1))\n",
        "close_srt"
      ]
    },
    {
      "cell_type": "markdown",
      "id": "159b9243",
      "metadata": {
        "id": "159b9243"
      },
      "source": [
        "Since LSTM are sensitive to the scale of the data, so we apply MinMax Scaler to transform our values between 0 and 1"
      ]
    },
    {
      "cell_type": "markdown",
      "id": "57af8bee",
      "metadata": {
        "id": "57af8bee"
      },
      "source": [
        "## Splitting the dataset"
      ]
    },
    {
      "cell_type": "code",
      "execution_count": null,
      "id": "b57617a5",
      "metadata": {
        "id": "b57617a5"
      },
      "outputs": [],
      "source": [
        "train_size = int(len(close_srt)*0.7)\n",
        "test_size = len(close_srt) - train_size\n",
        "train_data,test_data = close_srt[0:train_size,:],close_srt[train_size:len(close_srt),:1]"
      ]
    },
    {
      "cell_type": "code",
      "execution_count": null,
      "id": "45b17ca2",
      "metadata": {
        "colab": {
          "base_uri": "https://localhost:8080/"
        },
        "id": "45b17ca2",
        "outputId": "c2edf546-f95b-4bd6-87bb-eb6873aaa2e4"
      },
      "outputs": [
        {
          "output_type": "execute_result",
          "data": {
            "text/plain": [
              "(1424, 1)"
            ]
          },
          "metadata": {},
          "execution_count": 14
        }
      ],
      "source": [
        "train_data.shape"
      ]
    },
    {
      "cell_type": "code",
      "execution_count": null,
      "id": "5463645e",
      "metadata": {
        "colab": {
          "base_uri": "https://localhost:8080/"
        },
        "id": "5463645e",
        "outputId": "9f4ac040-69e5-4066-ea26-efbef8dc0a63"
      },
      "outputs": [
        {
          "output_type": "execute_result",
          "data": {
            "text/plain": [
              "(611, 1)"
            ]
          },
          "metadata": {},
          "execution_count": 15
        }
      ],
      "source": [
        "test_data.shape"
      ]
    },
    {
      "cell_type": "markdown",
      "id": "7f4b080a",
      "metadata": {
        "id": "7f4b080a"
      },
      "source": [
        "## convert an array of values into a dataset matrix"
      ]
    },
    {
      "cell_type": "code",
      "execution_count": null,
      "id": "e4af2533",
      "metadata": {
        "id": "e4af2533"
      },
      "outputs": [],
      "source": [
        "def create_dataset(dataset, time_step=1):\n",
        "    dataX, dataY = [], []\n",
        "    for i in range(len(dataset)-time_step-1):\n",
        "        a = dataset[i:(i+time_step), 0]   ###i=0, 0,1,2,3-----99   100\n",
        "        dataX.append(a)\n",
        "        dataY.append(dataset[i + time_step, 0])\n",
        "    return np.array(dataX), np.array(dataY)"
      ]
    },
    {
      "cell_type": "markdown",
      "id": "f2588179",
      "metadata": {
        "id": "f2588179"
      },
      "source": [
        "## Reshaping of dataset"
      ]
    },
    {
      "cell_type": "code",
      "execution_count": null,
      "id": "88b79e09",
      "metadata": {
        "id": "88b79e09"
      },
      "outputs": [],
      "source": [
        "time_step = 100\n",
        "X_train, y_train = create_dataset(train_data, time_step)\n",
        "X_test, y_test = create_dataset(test_data, time_step)"
      ]
    },
    {
      "cell_type": "code",
      "execution_count": null,
      "id": "6fae8cd4",
      "metadata": {
        "colab": {
          "base_uri": "https://localhost:8080/"
        },
        "id": "6fae8cd4",
        "outputId": "c7112bb5-16ef-4b94-da28-ae1930e913fd"
      },
      "outputs": [
        {
          "output_type": "stream",
          "name": "stdout",
          "text": [
            "(1323, 100)\n",
            "(1323,)\n"
          ]
        },
        {
          "output_type": "execute_result",
          "data": {
            "text/plain": [
              "(None, None)"
            ]
          },
          "metadata": {},
          "execution_count": 18
        }
      ],
      "source": [
        "print(X_train.shape), print(y_train.shape)"
      ]
    },
    {
      "cell_type": "code",
      "execution_count": null,
      "id": "abf397b1",
      "metadata": {
        "colab": {
          "base_uri": "https://localhost:8080/"
        },
        "id": "abf397b1",
        "outputId": "bb5604c9-3da3-4f05-b65e-322baeb34301"
      },
      "outputs": [
        {
          "output_type": "stream",
          "name": "stdout",
          "text": [
            "(510, 100)\n",
            "(510,)\n"
          ]
        },
        {
          "output_type": "execute_result",
          "data": {
            "text/plain": [
              "(None, None)"
            ]
          },
          "metadata": {},
          "execution_count": 19
        }
      ],
      "source": [
        "print(X_test.shape), print(y_test.shape)"
      ]
    },
    {
      "cell_type": "code",
      "execution_count": null,
      "id": "04fd6f1f",
      "metadata": {
        "id": "04fd6f1f"
      },
      "outputs": [],
      "source": [
        "X_train =X_train.reshape(X_train.shape[0],X_train.shape[1] , 1)\n",
        "X_test = X_test.reshape(X_test.shape[0],X_test.shape[1] , 1)"
      ]
    },
    {
      "cell_type": "code",
      "execution_count": null,
      "id": "5d36702b",
      "metadata": {
        "colab": {
          "base_uri": "https://localhost:8080/"
        },
        "id": "5d36702b",
        "outputId": "48e584c9-6b36-412f-f2b9-31f34bc5fdbb"
      },
      "outputs": [
        {
          "output_type": "execute_result",
          "data": {
            "text/plain": [
              "array([[[0.16584967],\n",
              "        [0.16319444],\n",
              "        [0.1621732 ],\n",
              "        ...,\n",
              "        [0.14011438],\n",
              "        [0.13848039],\n",
              "        [0.12479575]],\n",
              "\n",
              "       [[0.16319444],\n",
              "        [0.1621732 ],\n",
              "        [0.14971405],\n",
              "        ...,\n",
              "        [0.13848039],\n",
              "        [0.12479575],\n",
              "        [0.12254902]],\n",
              "\n",
              "       [[0.1621732 ],\n",
              "        [0.14971405],\n",
              "        [0.15400327],\n",
              "        ...,\n",
              "        [0.12479575],\n",
              "        [0.12254902],\n",
              "        [0.13010621]],\n",
              "\n",
              "       ...,\n",
              "\n",
              "       [[0.18280229],\n",
              "        [0.19178922],\n",
              "        [0.19219771],\n",
              "        ...,\n",
              "        [0.16441993],\n",
              "        [0.15236928],\n",
              "        [0.15482026]],\n",
              "\n",
              "       [[0.19178922],\n",
              "        [0.19219771],\n",
              "        [0.19281046],\n",
              "        ...,\n",
              "        [0.15236928],\n",
              "        [0.15482026],\n",
              "        [0.15420752]],\n",
              "\n",
              "       [[0.19219771],\n",
              "        [0.19281046],\n",
              "        [0.21058007],\n",
              "        ...,\n",
              "        [0.15482026],\n",
              "        [0.15420752],\n",
              "        [0.15012255]]])"
            ]
          },
          "metadata": {},
          "execution_count": 21
        }
      ],
      "source": [
        "X_train"
      ]
    },
    {
      "cell_type": "code",
      "execution_count": null,
      "id": "2e9788fb",
      "metadata": {
        "colab": {
          "base_uri": "https://localhost:8080/"
        },
        "id": "2e9788fb",
        "outputId": "a3f181a4-faeb-424f-da63-35ef7b6c91df"
      },
      "outputs": [
        {
          "output_type": "execute_result",
          "data": {
            "text/plain": [
              "array([[[0.1621732 ],\n",
              "        [0.15951797],\n",
              "        [0.16707516],\n",
              "        ...,\n",
              "        [0.24775327],\n",
              "        [0.24836601],\n",
              "        [0.25020425]],\n",
              "\n",
              "       [[0.15951797],\n",
              "        [0.16707516],\n",
              "        [0.15992647],\n",
              "        ...,\n",
              "        [0.24836601],\n",
              "        [0.25020425],\n",
              "        [0.25020425]],\n",
              "\n",
              "       [[0.16707516],\n",
              "        [0.15992647],\n",
              "        [0.16053922],\n",
              "        ...,\n",
              "        [0.25020425],\n",
              "        [0.25020425],\n",
              "        [0.23999183]],\n",
              "\n",
              "       ...,\n",
              "\n",
              "       [[0.86519608],\n",
              "        [0.84027778],\n",
              "        [0.84497549],\n",
              "        ...,\n",
              "        [0.62888072],\n",
              "        [0.62765523],\n",
              "        [0.62234477]],\n",
              "\n",
              "       [[0.84027778],\n",
              "        [0.84497549],\n",
              "        [0.87111928],\n",
              "        ...,\n",
              "        [0.62765523],\n",
              "        [0.62234477],\n",
              "        [0.63378268]],\n",
              "\n",
              "       [[0.84497549],\n",
              "        [0.87111928],\n",
              "        [0.85273693],\n",
              "        ...,\n",
              "        [0.62234477],\n",
              "        [0.63378268],\n",
              "        [0.62622549]]])"
            ]
          },
          "metadata": {},
          "execution_count": 22
        }
      ],
      "source": [
        "X_test"
      ]
    },
    {
      "cell_type": "markdown",
      "id": "01b910b1",
      "metadata": {
        "id": "01b910b1"
      },
      "source": [
        "## Creating the stacked LSTM Model"
      ]
    },
    {
      "cell_type": "code",
      "execution_count": null,
      "id": "b12e3fe4",
      "metadata": {
        "id": "b12e3fe4"
      },
      "outputs": [],
      "source": [
        "from tensorflow.keras.models import Sequential\n",
        "from tensorflow.keras.layers import Dense\n",
        "from tensorflow.keras.layers import LSTM"
      ]
    },
    {
      "cell_type": "code",
      "execution_count": null,
      "id": "6f233b44",
      "metadata": {
        "id": "6f233b44"
      },
      "outputs": [],
      "source": [
        "#Creating the LSTM model\n",
        "model=Sequential()\n",
        "model.add(LSTM(50,return_sequences=True,input_shape=(100,1)))\n",
        "model.add(LSTM(50,return_sequences=True))\n",
        "model.add(LSTM(50))\n",
        "model.add(Dense(1))\n",
        "model.compile(loss='mean_squared_error',optimizer='adam')\n"
      ]
    },
    {
      "cell_type": "code",
      "execution_count": null,
      "id": "02bf2c41",
      "metadata": {
        "colab": {
          "base_uri": "https://localhost:8080/"
        },
        "id": "02bf2c41",
        "outputId": "41aa9685-e36d-4a0d-bcd0-407828765774"
      },
      "outputs": [
        {
          "output_type": "stream",
          "name": "stdout",
          "text": [
            "Model: \"sequential\"\n",
            "_________________________________________________________________\n",
            " Layer (type)                Output Shape              Param #   \n",
            "=================================================================\n",
            " lstm (LSTM)                 (None, 100, 50)           10400     \n",
            "                                                                 \n",
            " lstm_1 (LSTM)               (None, 100, 50)           20200     \n",
            "                                                                 \n",
            " lstm_2 (LSTM)               (None, 50)                20200     \n",
            "                                                                 \n",
            " dense (Dense)               (None, 1)                 51        \n",
            "                                                                 \n",
            "=================================================================\n",
            "Total params: 50,851\n",
            "Trainable params: 50,851\n",
            "Non-trainable params: 0\n",
            "_________________________________________________________________\n"
          ]
        }
      ],
      "source": [
        "model.summary()"
      ]
    },
    {
      "cell_type": "markdown",
      "id": "62f19c01",
      "metadata": {
        "id": "62f19c01"
      },
      "source": [
        "## Prediction and Checking Performance"
      ]
    },
    {
      "cell_type": "code",
      "execution_count": null,
      "id": "39053f11",
      "metadata": {
        "colab": {
          "base_uri": "https://localhost:8080/"
        },
        "id": "39053f11",
        "outputId": "f9d2752f-d818-4206-b07d-f3ecda0b0b46"
      },
      "outputs": [
        {
          "output_type": "stream",
          "name": "stdout",
          "text": [
            "Epoch 1/60\n",
            "19/19 [==============================] - 12s 245ms/step - loss: 0.0089 - val_loss: 0.0029\n",
            "Epoch 2/60\n",
            "19/19 [==============================] - 4s 217ms/step - loss: 0.0021 - val_loss: 0.0021\n",
            "Epoch 3/60\n",
            "19/19 [==============================] - 8s 416ms/step - loss: 0.0010 - val_loss: 0.0013\n",
            "Epoch 4/60\n",
            "19/19 [==============================] - 6s 330ms/step - loss: 9.1378e-04 - val_loss: 0.0013\n",
            "Epoch 5/60\n",
            "19/19 [==============================] - 3s 174ms/step - loss: 8.8574e-04 - val_loss: 0.0011\n",
            "Epoch 6/60\n",
            "19/19 [==============================] - 3s 175ms/step - loss: 8.1505e-04 - val_loss: 0.0011\n",
            "Epoch 7/60\n",
            "19/19 [==============================] - 4s 189ms/step - loss: 7.8598e-04 - val_loss: 0.0011\n",
            "Epoch 8/60\n",
            "19/19 [==============================] - 4s 218ms/step - loss: 7.7313e-04 - val_loss: 0.0010\n",
            "Epoch 9/60\n",
            "19/19 [==============================] - 3s 171ms/step - loss: 7.4974e-04 - val_loss: 9.7703e-04\n",
            "Epoch 10/60\n",
            "19/19 [==============================] - 3s 174ms/step - loss: 7.4603e-04 - val_loss: 9.3594e-04\n",
            "Epoch 11/60\n",
            "19/19 [==============================] - 4s 239ms/step - loss: 7.0228e-04 - val_loss: 8.7222e-04\n",
            "Epoch 12/60\n",
            "19/19 [==============================] - 3s 176ms/step - loss: 6.8371e-04 - val_loss: 8.2590e-04\n",
            "Epoch 13/60\n",
            "19/19 [==============================] - 3s 177ms/step - loss: 6.7692e-04 - val_loss: 7.8353e-04\n",
            "Epoch 14/60\n",
            "19/19 [==============================] - 4s 226ms/step - loss: 6.4970e-04 - val_loss: 7.5260e-04\n",
            "Epoch 15/60\n",
            "19/19 [==============================] - 4s 195ms/step - loss: 6.5235e-04 - val_loss: 7.7468e-04\n",
            "Epoch 16/60\n",
            "19/19 [==============================] - 3s 182ms/step - loss: 6.2823e-04 - val_loss: 7.7807e-04\n",
            "Epoch 17/60\n",
            "19/19 [==============================] - 3s 183ms/step - loss: 5.9676e-04 - val_loss: 6.6962e-04\n",
            "Epoch 18/60\n",
            "19/19 [==============================] - 5s 251ms/step - loss: 5.9669e-04 - val_loss: 7.2293e-04\n",
            "Epoch 19/60\n",
            "19/19 [==============================] - 3s 179ms/step - loss: 5.7648e-04 - val_loss: 6.2599e-04\n",
            "Epoch 20/60\n",
            "19/19 [==============================] - 3s 182ms/step - loss: 5.6355e-04 - val_loss: 8.1701e-04\n",
            "Epoch 21/60\n",
            "19/19 [==============================] - 5s 242ms/step - loss: 6.0452e-04 - val_loss: 5.8504e-04\n",
            "Epoch 22/60\n",
            "19/19 [==============================] - 3s 180ms/step - loss: 5.4640e-04 - val_loss: 6.0095e-04\n",
            "Epoch 23/60\n",
            "19/19 [==============================] - 3s 178ms/step - loss: 5.5323e-04 - val_loss: 6.0017e-04\n",
            "Epoch 24/60\n",
            "19/19 [==============================] - 3s 184ms/step - loss: 5.3152e-04 - val_loss: 5.9934e-04\n",
            "Epoch 25/60\n",
            "19/19 [==============================] - 4s 217ms/step - loss: 4.9659e-04 - val_loss: 6.4478e-04\n",
            "Epoch 26/60\n",
            "19/19 [==============================] - 3s 174ms/step - loss: 5.2776e-04 - val_loss: 5.6688e-04\n",
            "Epoch 27/60\n",
            "19/19 [==============================] - 3s 172ms/step - loss: 5.7972e-04 - val_loss: 6.8414e-04\n",
            "Epoch 28/60\n",
            "19/19 [==============================] - 4s 237ms/step - loss: 5.1114e-04 - val_loss: 5.3039e-04\n",
            "Epoch 29/60\n",
            "19/19 [==============================] - 3s 174ms/step - loss: 5.3689e-04 - val_loss: 5.1870e-04\n",
            "Epoch 30/60\n",
            "19/19 [==============================] - 4s 196ms/step - loss: 4.6827e-04 - val_loss: 4.7877e-04\n",
            "Epoch 31/60\n",
            "19/19 [==============================] - 4s 195ms/step - loss: 4.4765e-04 - val_loss: 4.6219e-04\n",
            "Epoch 32/60\n",
            "19/19 [==============================] - 4s 227ms/step - loss: 4.3507e-04 - val_loss: 4.3717e-04\n",
            "Epoch 33/60\n",
            "19/19 [==============================] - 4s 210ms/step - loss: 4.2591e-04 - val_loss: 4.1599e-04\n",
            "Epoch 34/60\n",
            "19/19 [==============================] - 5s 245ms/step - loss: 4.2841e-04 - val_loss: 4.5665e-04\n",
            "Epoch 35/60\n",
            "19/19 [==============================] - 4s 207ms/step - loss: 4.1516e-04 - val_loss: 4.7571e-04\n",
            "Epoch 36/60\n",
            "19/19 [==============================] - 3s 178ms/step - loss: 3.9490e-04 - val_loss: 3.8631e-04\n",
            "Epoch 37/60\n",
            "19/19 [==============================] - 4s 189ms/step - loss: 3.9099e-04 - val_loss: 3.9320e-04\n",
            "Epoch 38/60\n",
            "19/19 [==============================] - 4s 240ms/step - loss: 3.6890e-04 - val_loss: 3.5924e-04\n",
            "Epoch 39/60\n",
            "19/19 [==============================] - 3s 175ms/step - loss: 3.7856e-04 - val_loss: 4.0338e-04\n",
            "Epoch 40/60\n",
            "19/19 [==============================] - 3s 177ms/step - loss: 3.6731e-04 - val_loss: 3.4994e-04\n",
            "Epoch 41/60\n",
            "19/19 [==============================] - 4s 227ms/step - loss: 3.4331e-04 - val_loss: 3.2952e-04\n",
            "Epoch 42/60\n",
            "19/19 [==============================] - 3s 176ms/step - loss: 3.4409e-04 - val_loss: 3.6027e-04\n",
            "Epoch 43/60\n",
            "19/19 [==============================] - 4s 185ms/step - loss: 3.5473e-04 - val_loss: 3.0834e-04\n",
            "Epoch 44/60\n",
            "19/19 [==============================] - 3s 178ms/step - loss: 3.2748e-04 - val_loss: 3.1288e-04\n",
            "Epoch 45/60\n",
            "19/19 [==============================] - 4s 232ms/step - loss: 3.1454e-04 - val_loss: 2.9516e-04\n",
            "Epoch 46/60\n",
            "19/19 [==============================] - 3s 175ms/step - loss: 3.3817e-04 - val_loss: 2.7830e-04\n",
            "Epoch 47/60\n",
            "19/19 [==============================] - 3s 174ms/step - loss: 2.9643e-04 - val_loss: 2.9466e-04\n",
            "Epoch 48/60\n",
            "19/19 [==============================] - 5s 246ms/step - loss: 2.9600e-04 - val_loss: 2.6600e-04\n",
            "Epoch 49/60\n",
            "19/19 [==============================] - 3s 177ms/step - loss: 2.8327e-04 - val_loss: 2.6411e-04\n",
            "Epoch 50/60\n",
            "19/19 [==============================] - 3s 181ms/step - loss: 2.9110e-04 - val_loss: 3.4045e-04\n",
            "Epoch 51/60\n",
            "19/19 [==============================] - 4s 194ms/step - loss: 3.0304e-04 - val_loss: 2.4600e-04\n",
            "Epoch 52/60\n",
            "19/19 [==============================] - 5s 277ms/step - loss: 2.6707e-04 - val_loss: 2.5906e-04\n",
            "Epoch 53/60\n",
            "19/19 [==============================] - 3s 176ms/step - loss: 2.6579e-04 - val_loss: 2.2847e-04\n",
            "Epoch 54/60\n",
            "19/19 [==============================] - 3s 175ms/step - loss: 3.0292e-04 - val_loss: 2.5674e-04\n",
            "Epoch 55/60\n",
            "19/19 [==============================] - 5s 248ms/step - loss: 2.8960e-04 - val_loss: 2.6483e-04\n",
            "Epoch 56/60\n",
            "19/19 [==============================] - 3s 177ms/step - loss: 2.5122e-04 - val_loss: 2.1907e-04\n",
            "Epoch 57/60\n",
            "19/19 [==============================] - 3s 175ms/step - loss: 2.4286e-04 - val_loss: 2.0568e-04\n",
            "Epoch 58/60\n",
            "19/19 [==============================] - 4s 235ms/step - loss: 2.4034e-04 - val_loss: 2.0934e-04\n",
            "Epoch 59/60\n",
            "19/19 [==============================] - 3s 176ms/step - loss: 2.4087e-04 - val_loss: 2.5106e-04\n",
            "Epoch 60/60\n",
            "19/19 [==============================] - 3s 174ms/step - loss: 2.2680e-04 - val_loss: 1.9940e-04\n"
          ]
        },
        {
          "output_type": "execute_result",
          "data": {
            "text/plain": [
              "<keras.callbacks.History at 0x7e29d36622c0>"
            ]
          },
          "metadata": {},
          "execution_count": 26
        }
      ],
      "source": [
        "model.fit(X_train,y_train,validation_split=0.1,epochs=60,batch_size=64,verbose=1)"
      ]
    },
    {
      "cell_type": "code",
      "execution_count": null,
      "id": "0a1bea77",
      "metadata": {
        "colab": {
          "base_uri": "https://localhost:8080/"
        },
        "id": "0a1bea77",
        "outputId": "25e49767-03b8-441a-ab78-c0ac1eb02461"
      },
      "outputs": [
        {
          "output_type": "stream",
          "name": "stdout",
          "text": [
            "42/42 [==============================] - 4s 40ms/step\n",
            "16/16 [==============================] - 1s 36ms/step\n"
          ]
        }
      ],
      "source": [
        "train_predict = model.predict(X_train)\n",
        "test_predict = model.predict(X_test)"
      ]
    },
    {
      "cell_type": "code",
      "execution_count": null,
      "id": "021c7ef8",
      "metadata": {
        "id": "021c7ef8"
      },
      "outputs": [],
      "source": [
        "train_predict = scaler.inverse_transform(train_predict)\n",
        "test_predict=scaler.inverse_transform(test_predict)\n"
      ]
    },
    {
      "cell_type": "markdown",
      "id": "e9bf6cea",
      "metadata": {
        "id": "e9bf6cea"
      },
      "source": [
        "## Calculating the Performance"
      ]
    },
    {
      "cell_type": "code",
      "execution_count": null,
      "id": "b2cc38dc",
      "metadata": {
        "id": "b2cc38dc"
      },
      "outputs": [],
      "source": [
        "import math\n",
        "from sklearn.metrics import mean_squared_error"
      ]
    },
    {
      "cell_type": "code",
      "execution_count": null,
      "id": "9d074503",
      "metadata": {
        "colab": {
          "base_uri": "https://localhost:8080/"
        },
        "id": "9d074503",
        "outputId": "5a68ae85-ef75-444e-cdbf-6b48c251650d"
      },
      "outputs": [
        {
          "output_type": "execute_result",
          "data": {
            "text/plain": [
              "133.7619086981855"
            ]
          },
          "metadata": {},
          "execution_count": 30
        }
      ],
      "source": [
        "math.sqrt(mean_squared_error(y_train,train_predict))\n"
      ]
    },
    {
      "cell_type": "code",
      "execution_count": null,
      "id": "8301ffc3",
      "metadata": {
        "colab": {
          "base_uri": "https://localhost:8080/"
        },
        "id": "8301ffc3",
        "outputId": "ceaed3e4-71ab-47d5-eda1-79eb3988f8d3"
      },
      "outputs": [
        {
          "output_type": "execute_result",
          "data": {
            "text/plain": [
              "208.45075166189073"
            ]
          },
          "metadata": {},
          "execution_count": 31
        }
      ],
      "source": [
        "math.sqrt(mean_squared_error(y_test,test_predict))"
      ]
    },
    {
      "cell_type": "markdown",
      "id": "77a072d2",
      "metadata": {
        "id": "77a072d2"
      },
      "source": [
        "#### Plotting the graph with predicted train data, test data with actual data"
      ]
    },
    {
      "cell_type": "code",
      "execution_count": null,
      "id": "e03eb38e",
      "metadata": {
        "colab": {
          "base_uri": "https://localhost:8080/",
          "height": 599
        },
        "id": "e03eb38e",
        "outputId": "902c63de-27d6-4fae-e9bb-c01aee233d3b"
      },
      "outputs": [
        {
          "output_type": "display_data",
          "data": {
            "text/plain": [
              "<Figure size 1000x700 with 1 Axes>"
            ],
            "image/png": "[encoded data removed]"
          },
          "metadata": {}
        }
      ],
      "source": [
        "look_back=100\n",
        "\n",
        "# shift train predictions for plotting\n",
        "trainPredictPlot = np.empty_like(close_srt)\n",
        "trainPredictPlot[:, :] = np.nan\n",
        "trainPredictPlot[look_back:len(train_predict)+look_back, :] = train_predict\n",
        "# shift test predictions for plotting\n",
        "testPredictPlot = np.empty_like(close_srt)\n",
        "testPredictPlot[:, :] = np.nan\n",
        "testPredictPlot[len(train_predict)+(look_back*2)+1:len(close_srt)-1, :] = test_predict\n",
        "# plot baseline and predictions\n",
        "plt.figure(figsize=(10,7))\n",
        "plt.plot(scaler.inverse_transform(close_srt))\n",
        "plt.plot(trainPredictPlot)\n",
        "plt.plot(testPredictPlot)\n",
        "plt.show()"
      ]
    },
    {
      "cell_type": "markdown",
      "id": "e41f769c",
      "metadata": {
        "id": "e41f769c"
      },
      "source": [
        "### Prediction for next 30 days"
      ]
    },
    {
      "cell_type": "code",
      "execution_count": null,
      "id": "6daf65bb",
      "metadata": {
        "colab": {
          "base_uri": "https://localhost:8080/"
        },
        "id": "6daf65bb",
        "outputId": "f074254f-8bb4-4941-cc7f-d5e7166b1db3"
      },
      "outputs": [
        {
          "output_type": "execute_result",
          "data": {
            "text/plain": [
              "611"
            ]
          },
          "metadata": {},
          "execution_count": 33
        }
      ],
      "source": [
        "len(test_data)"
      ]
    },
    {
      "cell_type": "code",
      "execution_count": null,
      "id": "8ba5b1b2",
      "metadata": {
        "colab": {
          "base_uri": "https://localhost:8080/"
        },
        "id": "8ba5b1b2",
        "outputId": "97c10a14-74f7-4c8c-db7f-17aa19827cc9"
      },
      "outputs": [
        {
          "output_type": "execute_result",
          "data": {
            "text/plain": [
              "(1, 100)"
            ]
          },
          "metadata": {},
          "execution_count": 34
        }
      ],
      "source": [
        "pred_input=test_data[511:].reshape(1,-1)\n",
        "pred_input.shape"
      ]
    },
    {
      "cell_type": "code",
      "execution_count": null,
      "id": "e6d1e2ec",
      "metadata": {
        "id": "e6d1e2ec"
      },
      "outputs": [],
      "source": [
        "temp_input=list(pred_input)\n",
        "temp_input=temp_input[0].tolist()"
      ]
    },
    {
      "cell_type": "code",
      "execution_count": null,
      "id": "5dbabeb9",
      "metadata": {
        "colab": {
          "base_uri": "https://localhost:8080/"
        },
        "id": "5dbabeb9",
        "outputId": "b6d17a7d-189a-4a58-96d1-fd930da84bb4"
      },
      "outputs": [
        {
          "output_type": "execute_result",
          "data": {
            "text/plain": [
              "[0.8527369281045751,\n",
              " 0.8621323529411764,\n",
              " 0.8345588235294117,\n",
              " 0.84375,\n",
              " 0.7146650326797386,\n",
              " 0.6605392156862745,\n",
              " 0.6542075163398693,\n",
              " 0.6803513071895424,\n",
              " 0.6689133986928104,\n",
              " 0.6642156862745099,\n",
              " 0.678921568627451,\n",
              " 0.6913807189542482,\n",
              " 0.7089460784313726,\n",
              " 0.7226307189542485,\n",
              " 0.7340686274509802,\n",
              " 0.7212009803921569,\n",
              " 0.749795751633987,\n",
              " 0.7689950980392157,\n",
              " 0.7446895424836601,\n",
              " 0.7120098039215685,\n",
              " 0.7467320261437909,\n",
              " 0.7549019607843137,\n",
              " 0.7604166666666667,\n",
              " 0.7598039215686274,\n",
              " 0.7465277777777777,\n",
              " 0.7624591503267975,\n",
              " 0.7706290849673203,\n",
              " 0.8041258169934642,\n",
              " 0.7810457516339868,\n",
              " 0.7941176470588236,\n",
              " 0.7602124183006536,\n",
              " 0.7348856209150327,\n",
              " 0.7240604575163399,\n",
              " 0.7399918300653596,\n",
              " 0.749795751633987,\n",
              " 0.7614379084967322,\n",
              " 0.7542892156862746,\n",
              " 0.7475490196078431,\n",
              " 0.769607843137255,\n",
              " 0.7495915032679739,\n",
              " 0.8171977124183007,\n",
              " 0.8020833333333335,\n",
              " 0.7773692810457518,\n",
              " 0.7571486928104576,\n",
              " 0.7937091503267975,\n",
              " 0.7916666666666667,\n",
              " 0.7714460784313726,\n",
              " 0.7526552287581698,\n",
              " 0.7269199346405228,\n",
              " 0.6629901960784313,\n",
              " 0.6819852941176472,\n",
              " 0.6441993464052288,\n",
              " 0.6215277777777778,\n",
              " 0.6439950980392156,\n",
              " 0.6631944444444445,\n",
              " 0.6754493464052289,\n",
              " 0.6370506535947713,\n",
              " 0.6460375816993464,\n",
              " 0.6589052287581699,\n",
              " 0.6587009803921569,\n",
              " 0.6779003267973858,\n",
              " 0.6319444444444445,\n",
              " 0.6311274509803921,\n",
              " 0.627859477124183,\n",
              " 0.647671568627451,\n",
              " 0.6399101307189542,\n",
              " 0.6348039215686274,\n",
              " 0.6386846405228759,\n",
              " 0.6233660130718954,\n",
              " 0.627450980392157,\n",
              " 0.6397058823529412,\n",
              " 0.6470588235294118,\n",
              " 0.661968954248366,\n",
              " 0.6707516339869282,\n",
              " 0.6519607843137255,\n",
              " 0.6311274509803921,\n",
              " 0.6129493464052288,\n",
              " 0.6376633986928105,\n",
              " 0.6225490196078431,\n",
              " 0.627450980392157,\n",
              " 0.6333741830065359,\n",
              " 0.6264297385620916,\n",
              " 0.6362336601307189,\n",
              " 0.5831290849673202,\n",
              " 0.5778186274509804,\n",
              " 0.5723039215686275,\n",
              " 0.5800653594771241,\n",
              " 0.5761846405228758,\n",
              " 0.5516748366013072,\n",
              " 0.5788398692810458,\n",
              " 0.625,\n",
              " 0.6358251633986928,\n",
              " 0.6294934640522877,\n",
              " 0.6288807189542484,\n",
              " 0.6276552287581699,\n",
              " 0.6223447712418301,\n",
              " 0.6337826797385621,\n",
              " 0.6262254901960784,\n",
              " 0.622140522875817,\n",
              " 0.6241830065359477]"
            ]
          },
          "metadata": {},
          "execution_count": 36
        }
      ],
      "source": [
        "temp_input"
      ]
    },
    {
      "cell_type": "code",
      "execution_count": null,
      "id": "abaad7a0",
      "metadata": {
        "colab": {
          "base_uri": "https://localhost:8080/"
        },
        "id": "abaad7a0",
        "outputId": "41d8e3ae-f6bd-44b3-c6b7-1ae07ecac196"
      },
      "outputs": [
        {
          "output_type": "stream",
          "name": "stdout",
          "text": [
            "[0.60480237]\n",
            "101\n",
            "1 day input [0.86213235 0.83455882 0.84375    0.71466503 0.66053922 0.65420752\n",
            " 0.68035131 0.6689134  0.66421569 0.67892157 0.69138072 0.70894608\n",
            " 0.72263072 0.73406863 0.72120098 0.74979575 0.7689951  0.74468954\n",
            " 0.7120098  0.74673203 0.75490196 0.76041667 0.75980392 0.74652778\n",
            " 0.76245915 0.77062908 0.80412582 0.78104575 0.79411765 0.76021242\n",
            " 0.73488562 0.72406046 0.73999183 0.74979575 0.76143791 0.75428922\n",
            " 0.74754902 0.76960784 0.7495915  0.81719771 0.80208333 0.77736928\n",
            " 0.75714869 0.79370915 0.79166667 0.77144608 0.75265523 0.72691993\n",
            " 0.6629902  0.68198529 0.64419935 0.62152778 0.6439951  0.66319444\n",
            " 0.67544935 0.63705065 0.64603758 0.65890523 0.65870098 0.67790033\n",
            " 0.63194444 0.63112745 0.62785948 0.64767157 0.63991013 0.63480392\n",
            " 0.63868464 0.62336601 0.62745098 0.63970588 0.64705882 0.66196895\n",
            " 0.67075163 0.65196078 0.63112745 0.61294935 0.6376634  0.62254902\n",
            " 0.62745098 0.63337418 0.62642974 0.63623366 0.58312908 0.57781863\n",
            " 0.57230392 0.58006536 0.57618464 0.55167484 0.57883987 0.625\n",
            " 0.63582516 0.62949346 0.62888072 0.62765523 0.62234477 0.63378268\n",
            " 0.62622549 0.62214052 0.62418301 0.60480237]\n",
            "1 day output [[0.5959236]]\n",
            "2 day input [0.83455882 0.84375    0.71466503 0.66053922 0.65420752 0.68035131\n",
            " 0.6689134  0.66421569 0.67892157 0.69138072 0.70894608 0.72263072\n",
            " 0.73406863 0.72120098 0.74979575 0.7689951  0.74468954 0.7120098\n",
            " 0.74673203 0.75490196 0.76041667 0.75980392 0.74652778 0.76245915\n",
            " 0.77062908 0.80412582 0.78104575 0.79411765 0.76021242 0.73488562\n",
            " 0.72406046 0.73999183 0.74979575 0.76143791 0.75428922 0.74754902\n",
            " 0.76960784 0.7495915  0.81719771 0.80208333 0.77736928 0.75714869\n",
            " 0.79370915 0.79166667 0.77144608 0.75265523 0.72691993 0.6629902\n",
            " 0.68198529 0.64419935 0.62152778 0.6439951  0.66319444 0.67544935\n",
            " 0.63705065 0.64603758 0.65890523 0.65870098 0.67790033 0.63194444\n",
            " 0.63112745 0.62785948 0.64767157 0.63991013 0.63480392 0.63868464\n",
            " 0.62336601 0.62745098 0.63970588 0.64705882 0.66196895 0.67075163\n",
            " 0.65196078 0.63112745 0.61294935 0.6376634  0.62254902 0.62745098\n",
            " 0.63337418 0.62642974 0.63623366 0.58312908 0.57781863 0.57230392\n",
            " 0.58006536 0.57618464 0.55167484 0.57883987 0.625      0.63582516\n",
            " 0.62949346 0.62888072 0.62765523 0.62234477 0.63378268 0.62622549\n",
            " 0.62214052 0.62418301 0.60480237 0.5959236 ]\n",
            "2 day output [[0.5835663]]\n",
            "3 day input [0.84375    0.71466503 0.66053922 0.65420752 0.68035131 0.6689134\n",
            " 0.66421569 0.67892157 0.69138072 0.70894608 0.72263072 0.73406863\n",
            " 0.72120098 0.74979575 0.7689951  0.74468954 0.7120098  0.74673203\n",
            " 0.75490196 0.76041667 0.75980392 0.74652778 0.76245915 0.77062908\n",
            " 0.80412582 0.78104575 0.79411765 0.76021242 0.73488562 0.72406046\n",
            " 0.73999183 0.74979575 0.76143791 0.75428922 0.74754902 0.76960784\n",
            " 0.7495915  0.81719771 0.80208333 0.77736928 0.75714869 0.79370915\n",
            " 0.79166667 0.77144608 0.75265523 0.72691993 0.6629902  0.68198529\n",
            " 0.64419935 0.62152778 0.6439951  0.66319444 0.67544935 0.63705065\n",
            " 0.64603758 0.65890523 0.65870098 0.67790033 0.63194444 0.63112745\n",
            " 0.62785948 0.64767157 0.63991013 0.63480392 0.63868464 0.62336601\n",
            " 0.62745098 0.63970588 0.64705882 0.66196895 0.67075163 0.65196078\n",
            " 0.63112745 0.61294935 0.6376634  0.62254902 0.62745098 0.63337418\n",
            " 0.62642974 0.63623366 0.58312908 0.57781863 0.57230392 0.58006536\n",
            " 0.57618464 0.55167484 0.57883987 0.625      0.63582516 0.62949346\n",
            " 0.62888072 0.62765523 0.62234477 0.63378268 0.62622549 0.62214052\n",
            " 0.62418301 0.60480237 0.5959236  0.58356631]\n",
            "3 day output [[0.5714255]]\n",
            "4 day input [0.71466503 0.66053922 0.65420752 0.68035131 0.6689134  0.66421569\n",
            " 0.67892157 0.69138072 0.70894608 0.72263072 0.73406863 0.72120098\n",
            " 0.74979575 0.7689951  0.74468954 0.7120098  0.74673203 0.75490196\n",
            " 0.76041667 0.75980392 0.74652778 0.76245915 0.77062908 0.80412582\n",
            " 0.78104575 0.79411765 0.76021242 0.73488562 0.72406046 0.73999183\n",
            " 0.74979575 0.76143791 0.75428922 0.74754902 0.76960784 0.7495915\n",
            " 0.81719771 0.80208333 0.77736928 0.75714869 0.79370915 0.79166667\n",
            " 0.77144608 0.75265523 0.72691993 0.6629902  0.68198529 0.64419935\n",
            " 0.62152778 0.6439951  0.66319444 0.67544935 0.63705065 0.64603758\n",
            " 0.65890523 0.65870098 0.67790033 0.63194444 0.63112745 0.62785948\n",
            " 0.64767157 0.63991013 0.63480392 0.63868464 0.62336601 0.62745098\n",
            " 0.63970588 0.64705882 0.66196895 0.67075163 0.65196078 0.63112745\n",
            " 0.61294935 0.6376634  0.62254902 0.62745098 0.63337418 0.62642974\n",
            " 0.63623366 0.58312908 0.57781863 0.57230392 0.58006536 0.57618464\n",
            " 0.55167484 0.57883987 0.625      0.63582516 0.62949346 0.62888072\n",
            " 0.62765523 0.62234477 0.63378268 0.62622549 0.62214052 0.62418301\n",
            " 0.60480237 0.5959236  0.58356631 0.5714255 ]\n",
            "4 day output [[0.5607046]]\n",
            "5 day input [0.66053922 0.65420752 0.68035131 0.6689134  0.66421569 0.67892157\n",
            " 0.69138072 0.70894608 0.72263072 0.73406863 0.72120098 0.74979575\n",
            " 0.7689951  0.74468954 0.7120098  0.74673203 0.75490196 0.76041667\n",
            " 0.75980392 0.74652778 0.76245915 0.77062908 0.80412582 0.78104575\n",
            " 0.79411765 0.76021242 0.73488562 0.72406046 0.73999183 0.74979575\n",
            " 0.76143791 0.75428922 0.74754902 0.76960784 0.7495915  0.81719771\n",
            " 0.80208333 0.77736928 0.75714869 0.79370915 0.79166667 0.77144608\n",
            " 0.75265523 0.72691993 0.6629902  0.68198529 0.64419935 0.62152778\n",
            " 0.6439951  0.66319444 0.67544935 0.63705065 0.64603758 0.65890523\n",
            " 0.65870098 0.67790033 0.63194444 0.63112745 0.62785948 0.64767157\n",
            " 0.63991013 0.63480392 0.63868464 0.62336601 0.62745098 0.63970588\n",
            " 0.64705882 0.66196895 0.67075163 0.65196078 0.63112745 0.61294935\n",
            " 0.6376634  0.62254902 0.62745098 0.63337418 0.62642974 0.63623366\n",
            " 0.58312908 0.57781863 0.57230392 0.58006536 0.57618464 0.55167484\n",
            " 0.57883987 0.625      0.63582516 0.62949346 0.62888072 0.62765523\n",
            " 0.62234477 0.63378268 0.62622549 0.62214052 0.62418301 0.60480237\n",
            " 0.5959236  0.58356631 0.5714255  0.56070459]\n",
            "5 day output [[0.5514454]]\n",
            "6 day input [0.65420752 0.68035131 0.6689134  0.66421569 0.67892157 0.69138072\n",
            " 0.70894608 0.72263072 0.73406863 0.72120098 0.74979575 0.7689951\n",
            " 0.74468954 0.7120098  0.74673203 0.75490196 0.76041667 0.75980392\n",
            " 0.74652778 0.76245915 0.77062908 0.80412582 0.78104575 0.79411765\n",
            " 0.76021242 0.73488562 0.72406046 0.73999183 0.74979575 0.76143791\n",
            " 0.75428922 0.74754902 0.76960784 0.7495915  0.81719771 0.80208333\n",
            " 0.77736928 0.75714869 0.79370915 0.79166667 0.77144608 0.75265523\n",
            " 0.72691993 0.6629902  0.68198529 0.64419935 0.62152778 0.6439951\n",
            " 0.66319444 0.67544935 0.63705065 0.64603758 0.65890523 0.65870098\n",
            " 0.67790033 0.63194444 0.63112745 0.62785948 0.64767157 0.63991013\n",
            " 0.63480392 0.63868464 0.62336601 0.62745098 0.63970588 0.64705882\n",
            " 0.66196895 0.67075163 0.65196078 0.63112745 0.61294935 0.6376634\n",
            " 0.62254902 0.62745098 0.63337418 0.62642974 0.63623366 0.58312908\n",
            " 0.57781863 0.57230392 0.58006536 0.57618464 0.55167484 0.57883987\n",
            " 0.625      0.63582516 0.62949346 0.62888072 0.62765523 0.62234477\n",
            " 0.63378268 0.62622549 0.62214052 0.62418301 0.60480237 0.5959236\n",
            " 0.58356631 0.5714255  0.56070459 0.55144542]\n",
            "6 day output [[0.5434025]]\n",
            "7 day input [0.68035131 0.6689134  0.66421569 0.67892157 0.69138072 0.70894608\n",
            " 0.72263072 0.73406863 0.72120098 0.74979575 0.7689951  0.74468954\n",
            " 0.7120098  0.74673203 0.75490196 0.76041667 0.75980392 0.74652778\n",
            " 0.76245915 0.77062908 0.80412582 0.78104575 0.79411765 0.76021242\n",
            " 0.73488562 0.72406046 0.73999183 0.74979575 0.76143791 0.75428922\n",
            " 0.74754902 0.76960784 0.7495915  0.81719771 0.80208333 0.77736928\n",
            " 0.75714869 0.79370915 0.79166667 0.77144608 0.75265523 0.72691993\n",
            " 0.6629902  0.68198529 0.64419935 0.62152778 0.6439951  0.66319444\n",
            " 0.67544935 0.63705065 0.64603758 0.65890523 0.65870098 0.67790033\n",
            " 0.63194444 0.63112745 0.62785948 0.64767157 0.63991013 0.63480392\n",
            " 0.63868464 0.62336601 0.62745098 0.63970588 0.64705882 0.66196895\n",
            " 0.67075163 0.65196078 0.63112745 0.61294935 0.6376634  0.62254902\n",
            " 0.62745098 0.63337418 0.62642974 0.63623366 0.58312908 0.57781863\n",
            " 0.57230392 0.58006536 0.57618464 0.55167484 0.57883987 0.625\n",
            " 0.63582516 0.62949346 0.62888072 0.62765523 0.62234477 0.63378268\n",
            " 0.62622549 0.62214052 0.62418301 0.60480237 0.5959236  0.58356631\n",
            " 0.5714255  0.56070459 0.55144542 0.54340249]\n",
            "7 day output [[0.53626734]]\n",
            "8 day input [0.6689134  0.66421569 0.67892157 0.69138072 0.70894608 0.72263072\n",
            " 0.73406863 0.72120098 0.74979575 0.7689951  0.74468954 0.7120098\n",
            " 0.74673203 0.75490196 0.76041667 0.75980392 0.74652778 0.76245915\n",
            " 0.77062908 0.80412582 0.78104575 0.79411765 0.76021242 0.73488562\n",
            " 0.72406046 0.73999183 0.74979575 0.76143791 0.75428922 0.74754902\n",
            " 0.76960784 0.7495915  0.81719771 0.80208333 0.77736928 0.75714869\n",
            " 0.79370915 0.79166667 0.77144608 0.75265523 0.72691993 0.6629902\n",
            " 0.68198529 0.64419935 0.62152778 0.6439951  0.66319444 0.67544935\n",
            " 0.63705065 0.64603758 0.65890523 0.65870098 0.67790033 0.63194444\n",
            " 0.63112745 0.62785948 0.64767157 0.63991013 0.63480392 0.63868464\n",
            " 0.62336601 0.62745098 0.63970588 0.64705882 0.66196895 0.67075163\n",
            " 0.65196078 0.63112745 0.61294935 0.6376634  0.62254902 0.62745098\n",
            " 0.63337418 0.62642974 0.63623366 0.58312908 0.57781863 0.57230392\n",
            " 0.58006536 0.57618464 0.55167484 0.57883987 0.625      0.63582516\n",
            " 0.62949346 0.62888072 0.62765523 0.62234477 0.63378268 0.62622549\n",
            " 0.62214052 0.62418301 0.60480237 0.5959236  0.58356631 0.5714255\n",
            " 0.56070459 0.55144542 0.54340249 0.53626734]\n",
            "8 day output [[0.5297093]]\n",
            "9 day input [0.66421569 0.67892157 0.69138072 0.70894608 0.72263072 0.73406863\n",
            " 0.72120098 0.74979575 0.7689951  0.74468954 0.7120098  0.74673203\n",
            " 0.75490196 0.76041667 0.75980392 0.74652778 0.76245915 0.77062908\n",
            " 0.80412582 0.78104575 0.79411765 0.76021242 0.73488562 0.72406046\n",
            " 0.73999183 0.74979575 0.76143791 0.75428922 0.74754902 0.76960784\n",
            " 0.7495915  0.81719771 0.80208333 0.77736928 0.75714869 0.79370915\n",
            " 0.79166667 0.77144608 0.75265523 0.72691993 0.6629902  0.68198529\n",
            " 0.64419935 0.62152778 0.6439951  0.66319444 0.67544935 0.63705065\n",
            " 0.64603758 0.65890523 0.65870098 0.67790033 0.63194444 0.63112745\n",
            " 0.62785948 0.64767157 0.63991013 0.63480392 0.63868464 0.62336601\n",
            " 0.62745098 0.63970588 0.64705882 0.66196895 0.67075163 0.65196078\n",
            " 0.63112745 0.61294935 0.6376634  0.62254902 0.62745098 0.63337418\n",
            " 0.62642974 0.63623366 0.58312908 0.57781863 0.57230392 0.58006536\n",
            " 0.57618464 0.55167484 0.57883987 0.625      0.63582516 0.62949346\n",
            " 0.62888072 0.62765523 0.62234477 0.63378268 0.62622549 0.62214052\n",
            " 0.62418301 0.60480237 0.5959236  0.58356631 0.5714255  0.56070459\n",
            " 0.55144542 0.54340249 0.53626734 0.52970928]\n",
            "9 day output [[0.5234204]]\n",
            "10 day input [0.67892157 0.69138072 0.70894608 0.72263072 0.73406863 0.72120098\n",
            " 0.74979575 0.7689951  0.74468954 0.7120098  0.74673203 0.75490196\n",
            " 0.76041667 0.75980392 0.74652778 0.76245915 0.77062908 0.80412582\n",
            " 0.78104575 0.79411765 0.76021242 0.73488562 0.72406046 0.73999183\n",
            " 0.74979575 0.76143791 0.75428922 0.74754902 0.76960784 0.7495915\n",
            " 0.81719771 0.80208333 0.77736928 0.75714869 0.79370915 0.79166667\n",
            " 0.77144608 0.75265523 0.72691993 0.6629902  0.68198529 0.64419935\n",
            " 0.62152778 0.6439951  0.66319444 0.67544935 0.63705065 0.64603758\n",
            " 0.65890523 0.65870098 0.67790033 0.63194444 0.63112745 0.62785948\n",
            " 0.64767157 0.63991013 0.63480392 0.63868464 0.62336601 0.62745098\n",
            " 0.63970588 0.64705882 0.66196895 0.67075163 0.65196078 0.63112745\n",
            " 0.61294935 0.6376634  0.62254902 0.62745098 0.63337418 0.62642974\n",
            " 0.63623366 0.58312908 0.57781863 0.57230392 0.58006536 0.57618464\n",
            " 0.55167484 0.57883987 0.625      0.63582516 0.62949346 0.62888072\n",
            " 0.62765523 0.62234477 0.63378268 0.62622549 0.62214052 0.62418301\n",
            " 0.60480237 0.5959236  0.58356631 0.5714255  0.56070459 0.55144542\n",
            " 0.54340249 0.53626734 0.52970928 0.52342039]\n",
            "10 day output [[0.51716626]]\n",
            "11 day input [0.69138072 0.70894608 0.72263072 0.73406863 0.72120098 0.74979575\n",
            " 0.7689951  0.74468954 0.7120098  0.74673203 0.75490196 0.76041667\n",
            " 0.75980392 0.74652778 0.76245915 0.77062908 0.80412582 0.78104575\n",
            " 0.79411765 0.76021242 0.73488562 0.72406046 0.73999183 0.74979575\n",
            " 0.76143791 0.75428922 0.74754902 0.76960784 0.7495915  0.81719771\n",
            " 0.80208333 0.77736928 0.75714869 0.79370915 0.79166667 0.77144608\n",
            " 0.75265523 0.72691993 0.6629902  0.68198529 0.64419935 0.62152778\n",
            " 0.6439951  0.66319444 0.67544935 0.63705065 0.64603758 0.65890523\n",
            " 0.65870098 0.67790033 0.63194444 0.63112745 0.62785948 0.64767157\n",
            " 0.63991013 0.63480392 0.63868464 0.62336601 0.62745098 0.63970588\n",
            " 0.64705882 0.66196895 0.67075163 0.65196078 0.63112745 0.61294935\n",
            " 0.6376634  0.62254902 0.62745098 0.63337418 0.62642974 0.63623366\n",
            " 0.58312908 0.57781863 0.57230392 0.58006536 0.57618464 0.55167484\n",
            " 0.57883987 0.625      0.63582516 0.62949346 0.62888072 0.62765523\n",
            " 0.62234477 0.63378268 0.62622549 0.62214052 0.62418301 0.60480237\n",
            " 0.5959236  0.58356631 0.5714255  0.56070459 0.55144542 0.54340249\n",
            " 0.53626734 0.52970928 0.52342039 0.51716626]\n",
            "11 day output [[0.510814]]\n",
            "12 day input [0.70894608 0.72263072 0.73406863 0.72120098 0.74979575 0.7689951\n",
            " 0.74468954 0.7120098  0.74673203 0.75490196 0.76041667 0.75980392\n",
            " 0.74652778 0.76245915 0.77062908 0.80412582 0.78104575 0.79411765\n",
            " 0.76021242 0.73488562 0.72406046 0.73999183 0.74979575 0.76143791\n",
            " 0.75428922 0.74754902 0.76960784 0.7495915  0.81719771 0.80208333\n",
            " 0.77736928 0.75714869 0.79370915 0.79166667 0.77144608 0.75265523\n",
            " 0.72691993 0.6629902  0.68198529 0.64419935 0.62152778 0.6439951\n",
            " 0.66319444 0.67544935 0.63705065 0.64603758 0.65890523 0.65870098\n",
            " 0.67790033 0.63194444 0.63112745 0.62785948 0.64767157 0.63991013\n",
            " 0.63480392 0.63868464 0.62336601 0.62745098 0.63970588 0.64705882\n",
            " 0.66196895 0.67075163 0.65196078 0.63112745 0.61294935 0.6376634\n",
            " 0.62254902 0.62745098 0.63337418 0.62642974 0.63623366 0.58312908\n",
            " 0.57781863 0.57230392 0.58006536 0.57618464 0.55167484 0.57883987\n",
            " 0.625      0.63582516 0.62949346 0.62888072 0.62765523 0.62234477\n",
            " 0.63378268 0.62622549 0.62214052 0.62418301 0.60480237 0.5959236\n",
            " 0.58356631 0.5714255  0.56070459 0.55144542 0.54340249 0.53626734\n",
            " 0.52970928 0.52342039 0.51716626 0.51081401]\n",
            "12 day output [[0.50433123]]\n",
            "13 day input [0.72263072 0.73406863 0.72120098 0.74979575 0.7689951  0.74468954\n",
            " 0.7120098  0.74673203 0.75490196 0.76041667 0.75980392 0.74652778\n",
            " 0.76245915 0.77062908 0.80412582 0.78104575 0.79411765 0.76021242\n",
            " 0.73488562 0.72406046 0.73999183 0.74979575 0.76143791 0.75428922\n",
            " 0.74754902 0.76960784 0.7495915  0.81719771 0.80208333 0.77736928\n",
            " 0.75714869 0.79370915 0.79166667 0.77144608 0.75265523 0.72691993\n",
            " 0.6629902  0.68198529 0.64419935 0.62152778 0.6439951  0.66319444\n",
            " 0.67544935 0.63705065 0.64603758 0.65890523 0.65870098 0.67790033\n",
            " 0.63194444 0.63112745 0.62785948 0.64767157 0.63991013 0.63480392\n",
            " 0.63868464 0.62336601 0.62745098 0.63970588 0.64705882 0.66196895\n",
            " 0.67075163 0.65196078 0.63112745 0.61294935 0.6376634  0.62254902\n",
            " 0.62745098 0.63337418 0.62642974 0.63623366 0.58312908 0.57781863\n",
            " 0.57230392 0.58006536 0.57618464 0.55167484 0.57883987 0.625\n",
            " 0.63582516 0.62949346 0.62888072 0.62765523 0.62234477 0.63378268\n",
            " 0.62622549 0.62214052 0.62418301 0.60480237 0.5959236  0.58356631\n",
            " 0.5714255  0.56070459 0.55144542 0.54340249 0.53626734 0.52970928\n",
            " 0.52342039 0.51716626 0.51081401 0.50433123]\n",
            "13 day output [[0.4977631]]\n",
            "14 day input [0.73406863 0.72120098 0.74979575 0.7689951  0.74468954 0.7120098\n",
            " 0.74673203 0.75490196 0.76041667 0.75980392 0.74652778 0.76245915\n",
            " 0.77062908 0.80412582 0.78104575 0.79411765 0.76021242 0.73488562\n",
            " 0.72406046 0.73999183 0.74979575 0.76143791 0.75428922 0.74754902\n",
            " 0.76960784 0.7495915  0.81719771 0.80208333 0.77736928 0.75714869\n",
            " 0.79370915 0.79166667 0.77144608 0.75265523 0.72691993 0.6629902\n",
            " 0.68198529 0.64419935 0.62152778 0.6439951  0.66319444 0.67544935\n",
            " 0.63705065 0.64603758 0.65890523 0.65870098 0.67790033 0.63194444\n",
            " 0.63112745 0.62785948 0.64767157 0.63991013 0.63480392 0.63868464\n",
            " 0.62336601 0.62745098 0.63970588 0.64705882 0.66196895 0.67075163\n",
            " 0.65196078 0.63112745 0.61294935 0.6376634  0.62254902 0.62745098\n",
            " 0.63337418 0.62642974 0.63623366 0.58312908 0.57781863 0.57230392\n",
            " 0.58006536 0.57618464 0.55167484 0.57883987 0.625      0.63582516\n",
            " 0.62949346 0.62888072 0.62765523 0.62234477 0.63378268 0.62622549\n",
            " 0.62214052 0.62418301 0.60480237 0.5959236  0.58356631 0.5714255\n",
            " 0.56070459 0.55144542 0.54340249 0.53626734 0.52970928 0.52342039\n",
            " 0.51716626 0.51081401 0.50433123 0.4977631 ]\n",
            "14 day output [[0.4912032]]\n",
            "15 day input [0.72120098 0.74979575 0.7689951  0.74468954 0.7120098  0.74673203\n",
            " 0.75490196 0.76041667 0.75980392 0.74652778 0.76245915 0.77062908\n",
            " 0.80412582 0.78104575 0.79411765 0.76021242 0.73488562 0.72406046\n",
            " 0.73999183 0.74979575 0.76143791 0.75428922 0.74754902 0.76960784\n",
            " 0.7495915  0.81719771 0.80208333 0.77736928 0.75714869 0.79370915\n",
            " 0.79166667 0.77144608 0.75265523 0.72691993 0.6629902  0.68198529\n",
            " 0.64419935 0.62152778 0.6439951  0.66319444 0.67544935 0.63705065\n",
            " 0.64603758 0.65890523 0.65870098 0.67790033 0.63194444 0.63112745\n",
            " 0.62785948 0.64767157 0.63991013 0.63480392 0.63868464 0.62336601\n",
            " 0.62745098 0.63970588 0.64705882 0.66196895 0.67075163 0.65196078\n",
            " 0.63112745 0.61294935 0.6376634  0.62254902 0.62745098 0.63337418\n",
            " 0.62642974 0.63623366 0.58312908 0.57781863 0.57230392 0.58006536\n",
            " 0.57618464 0.55167484 0.57883987 0.625      0.63582516 0.62949346\n",
            " 0.62888072 0.62765523 0.62234477 0.63378268 0.62622549 0.62214052\n",
            " 0.62418301 0.60480237 0.5959236  0.58356631 0.5714255  0.56070459\n",
            " 0.55144542 0.54340249 0.53626734 0.52970928 0.52342039 0.51716626\n",
            " 0.51081401 0.50433123 0.4977631  0.49120319]\n",
            "15 day output [[0.48476052]]\n",
            "16 day input [0.74979575 0.7689951  0.74468954 0.7120098  0.74673203 0.75490196\n",
            " 0.76041667 0.75980392 0.74652778 0.76245915 0.77062908 0.80412582\n",
            " 0.78104575 0.79411765 0.76021242 0.73488562 0.72406046 0.73999183\n",
            " 0.74979575 0.76143791 0.75428922 0.74754902 0.76960784 0.7495915\n",
            " 0.81719771 0.80208333 0.77736928 0.75714869 0.79370915 0.79166667\n",
            " 0.77144608 0.75265523 0.72691993 0.6629902  0.68198529 0.64419935\n",
            " 0.62152778 0.6439951  0.66319444 0.67544935 0.63705065 0.64603758\n",
            " 0.65890523 0.65870098 0.67790033 0.63194444 0.63112745 0.62785948\n",
            " 0.64767157 0.63991013 0.63480392 0.63868464 0.62336601 0.62745098\n",
            " 0.63970588 0.64705882 0.66196895 0.67075163 0.65196078 0.63112745\n",
            " 0.61294935 0.6376634  0.62254902 0.62745098 0.63337418 0.62642974\n",
            " 0.63623366 0.58312908 0.57781863 0.57230392 0.58006536 0.57618464\n",
            " 0.55167484 0.57883987 0.625      0.63582516 0.62949346 0.62888072\n",
            " 0.62765523 0.62234477 0.63378268 0.62622549 0.62214052 0.62418301\n",
            " 0.60480237 0.5959236  0.58356631 0.5714255  0.56070459 0.55144542\n",
            " 0.54340249 0.53626734 0.52970928 0.52342039 0.51716626 0.51081401\n",
            " 0.50433123 0.4977631  0.49120319 0.48476052]\n",
            "16 day output [[0.4785347]]\n",
            "17 day input [0.7689951  0.74468954 0.7120098  0.74673203 0.75490196 0.76041667\n",
            " 0.75980392 0.74652778 0.76245915 0.77062908 0.80412582 0.78104575\n",
            " 0.79411765 0.76021242 0.73488562 0.72406046 0.73999183 0.74979575\n",
            " 0.76143791 0.75428922 0.74754902 0.76960784 0.7495915  0.81719771\n",
            " 0.80208333 0.77736928 0.75714869 0.79370915 0.79166667 0.77144608\n",
            " 0.75265523 0.72691993 0.6629902  0.68198529 0.64419935 0.62152778\n",
            " 0.6439951  0.66319444 0.67544935 0.63705065 0.64603758 0.65890523\n",
            " 0.65870098 0.67790033 0.63194444 0.63112745 0.62785948 0.64767157\n",
            " 0.63991013 0.63480392 0.63868464 0.62336601 0.62745098 0.63970588\n",
            " 0.64705882 0.66196895 0.67075163 0.65196078 0.63112745 0.61294935\n",
            " 0.6376634  0.62254902 0.62745098 0.63337418 0.62642974 0.63623366\n",
            " 0.58312908 0.57781863 0.57230392 0.58006536 0.57618464 0.55167484\n",
            " 0.57883987 0.625      0.63582516 0.62949346 0.62888072 0.62765523\n",
            " 0.62234477 0.63378268 0.62622549 0.62214052 0.62418301 0.60480237\n",
            " 0.5959236  0.58356631 0.5714255  0.56070459 0.55144542 0.54340249\n",
            " 0.53626734 0.52970928 0.52342039 0.51716626 0.51081401 0.50433123\n",
            " 0.4977631  0.49120319 0.48476052 0.4785347 ]\n",
            "17 day output [[0.47259897]]\n",
            "18 day input [0.74468954 0.7120098  0.74673203 0.75490196 0.76041667 0.75980392\n",
            " 0.74652778 0.76245915 0.77062908 0.80412582 0.78104575 0.79411765\n",
            " 0.76021242 0.73488562 0.72406046 0.73999183 0.74979575 0.76143791\n",
            " 0.75428922 0.74754902 0.76960784 0.7495915  0.81719771 0.80208333\n",
            " 0.77736928 0.75714869 0.79370915 0.79166667 0.77144608 0.75265523\n",
            " 0.72691993 0.6629902  0.68198529 0.64419935 0.62152778 0.6439951\n",
            " 0.66319444 0.67544935 0.63705065 0.64603758 0.65890523 0.65870098\n",
            " 0.67790033 0.63194444 0.63112745 0.62785948 0.64767157 0.63991013\n",
            " 0.63480392 0.63868464 0.62336601 0.62745098 0.63970588 0.64705882\n",
            " 0.66196895 0.67075163 0.65196078 0.63112745 0.61294935 0.6376634\n",
            " 0.62254902 0.62745098 0.63337418 0.62642974 0.63623366 0.58312908\n",
            " 0.57781863 0.57230392 0.58006536 0.57618464 0.55167484 0.57883987\n",
            " 0.625      0.63582516 0.62949346 0.62888072 0.62765523 0.62234477\n",
            " 0.63378268 0.62622549 0.62214052 0.62418301 0.60480237 0.5959236\n",
            " 0.58356631 0.5714255  0.56070459 0.55144542 0.54340249 0.53626734\n",
            " 0.52970928 0.52342039 0.51716626 0.51081401 0.50433123 0.4977631\n",
            " 0.49120319 0.48476052 0.4785347  0.47259897]\n",
            "18 day output [[0.46699226]]\n",
            "19 day input [0.7120098  0.74673203 0.75490196 0.76041667 0.75980392 0.74652778\n",
            " 0.76245915 0.77062908 0.80412582 0.78104575 0.79411765 0.76021242\n",
            " 0.73488562 0.72406046 0.73999183 0.74979575 0.76143791 0.75428922\n",
            " 0.74754902 0.76960784 0.7495915  0.81719771 0.80208333 0.77736928\n",
            " 0.75714869 0.79370915 0.79166667 0.77144608 0.75265523 0.72691993\n",
            " 0.6629902  0.68198529 0.64419935 0.62152778 0.6439951  0.66319444\n",
            " 0.67544935 0.63705065 0.64603758 0.65890523 0.65870098 0.67790033\n",
            " 0.63194444 0.63112745 0.62785948 0.64767157 0.63991013 0.63480392\n",
            " 0.63868464 0.62336601 0.62745098 0.63970588 0.64705882 0.66196895\n",
            " 0.67075163 0.65196078 0.63112745 0.61294935 0.6376634  0.62254902\n",
            " 0.62745098 0.63337418 0.62642974 0.63623366 0.58312908 0.57781863\n",
            " 0.57230392 0.58006536 0.57618464 0.55167484 0.57883987 0.625\n",
            " 0.63582516 0.62949346 0.62888072 0.62765523 0.62234477 0.63378268\n",
            " 0.62622549 0.62214052 0.62418301 0.60480237 0.5959236  0.58356631\n",
            " 0.5714255  0.56070459 0.55144542 0.54340249 0.53626734 0.52970928\n",
            " 0.52342039 0.51716626 0.51081401 0.50433123 0.4977631  0.49120319\n",
            " 0.48476052 0.4785347  0.47259897 0.46699226]\n",
            "19 day output [[0.46172047]]\n",
            "20 day input [0.74673203 0.75490196 0.76041667 0.75980392 0.74652778 0.76245915\n",
            " 0.77062908 0.80412582 0.78104575 0.79411765 0.76021242 0.73488562\n",
            " 0.72406046 0.73999183 0.74979575 0.76143791 0.75428922 0.74754902\n",
            " 0.76960784 0.7495915  0.81719771 0.80208333 0.77736928 0.75714869\n",
            " 0.79370915 0.79166667 0.77144608 0.75265523 0.72691993 0.6629902\n",
            " 0.68198529 0.64419935 0.62152778 0.6439951  0.66319444 0.67544935\n",
            " 0.63705065 0.64603758 0.65890523 0.65870098 0.67790033 0.63194444\n",
            " 0.63112745 0.62785948 0.64767157 0.63991013 0.63480392 0.63868464\n",
            " 0.62336601 0.62745098 0.63970588 0.64705882 0.66196895 0.67075163\n",
            " 0.65196078 0.63112745 0.61294935 0.6376634  0.62254902 0.62745098\n",
            " 0.63337418 0.62642974 0.63623366 0.58312908 0.57781863 0.57230392\n",
            " 0.58006536 0.57618464 0.55167484 0.57883987 0.625      0.63582516\n",
            " 0.62949346 0.62888072 0.62765523 0.62234477 0.63378268 0.62622549\n",
            " 0.62214052 0.62418301 0.60480237 0.5959236  0.58356631 0.5714255\n",
            " 0.56070459 0.55144542 0.54340249 0.53626734 0.52970928 0.52342039\n",
            " 0.51716626 0.51081401 0.50433123 0.4977631  0.49120319 0.48476052\n",
            " 0.4785347  0.47259897 0.46699226 0.46172047]\n",
            "20 day output [[0.45676303]]\n",
            "21 day input [0.75490196 0.76041667 0.75980392 0.74652778 0.76245915 0.77062908\n",
            " 0.80412582 0.78104575 0.79411765 0.76021242 0.73488562 0.72406046\n",
            " 0.73999183 0.74979575 0.76143791 0.75428922 0.74754902 0.76960784\n",
            " 0.7495915  0.81719771 0.80208333 0.77736928 0.75714869 0.79370915\n",
            " 0.79166667 0.77144608 0.75265523 0.72691993 0.6629902  0.68198529\n",
            " 0.64419935 0.62152778 0.6439951  0.66319444 0.67544935 0.63705065\n",
            " 0.64603758 0.65890523 0.65870098 0.67790033 0.63194444 0.63112745\n",
            " 0.62785948 0.64767157 0.63991013 0.63480392 0.63868464 0.62336601\n",
            " 0.62745098 0.63970588 0.64705882 0.66196895 0.67075163 0.65196078\n",
            " 0.63112745 0.61294935 0.6376634  0.62254902 0.62745098 0.63337418\n",
            " 0.62642974 0.63623366 0.58312908 0.57781863 0.57230392 0.58006536\n",
            " 0.57618464 0.55167484 0.57883987 0.625      0.63582516 0.62949346\n",
            " 0.62888072 0.62765523 0.62234477 0.63378268 0.62622549 0.62214052\n",
            " 0.62418301 0.60480237 0.5959236  0.58356631 0.5714255  0.56070459\n",
            " 0.55144542 0.54340249 0.53626734 0.52970928 0.52342039 0.51716626\n",
            " 0.51081401 0.50433123 0.4977631  0.49120319 0.48476052 0.4785347\n",
            " 0.47259897 0.46699226 0.46172047 0.45676303]\n",
            "21 day output [[0.45208162]]\n",
            "22 day input [0.76041667 0.75980392 0.74652778 0.76245915 0.77062908 0.80412582\n",
            " 0.78104575 0.79411765 0.76021242 0.73488562 0.72406046 0.73999183\n",
            " 0.74979575 0.76143791 0.75428922 0.74754902 0.76960784 0.7495915\n",
            " 0.81719771 0.80208333 0.77736928 0.75714869 0.79370915 0.79166667\n",
            " 0.77144608 0.75265523 0.72691993 0.6629902  0.68198529 0.64419935\n",
            " 0.62152778 0.6439951  0.66319444 0.67544935 0.63705065 0.64603758\n",
            " 0.65890523 0.65870098 0.67790033 0.63194444 0.63112745 0.62785948\n",
            " 0.64767157 0.63991013 0.63480392 0.63868464 0.62336601 0.62745098\n",
            " 0.63970588 0.64705882 0.66196895 0.67075163 0.65196078 0.63112745\n",
            " 0.61294935 0.6376634  0.62254902 0.62745098 0.63337418 0.62642974\n",
            " 0.63623366 0.58312908 0.57781863 0.57230392 0.58006536 0.57618464\n",
            " 0.55167484 0.57883987 0.625      0.63582516 0.62949346 0.62888072\n",
            " 0.62765523 0.62234477 0.63378268 0.62622549 0.62214052 0.62418301\n",
            " 0.60480237 0.5959236  0.58356631 0.5714255  0.56070459 0.55144542\n",
            " 0.54340249 0.53626734 0.52970928 0.52342039 0.51716626 0.51081401\n",
            " 0.50433123 0.4977631  0.49120319 0.48476052 0.4785347  0.47259897\n",
            " 0.46699226 0.46172047 0.45676303 0.45208162]\n",
            "22 day output [[0.447631]]\n",
            "23 day input [0.75980392 0.74652778 0.76245915 0.77062908 0.80412582 0.78104575\n",
            " 0.79411765 0.76021242 0.73488562 0.72406046 0.73999183 0.74979575\n",
            " 0.76143791 0.75428922 0.74754902 0.76960784 0.7495915  0.81719771\n",
            " 0.80208333 0.77736928 0.75714869 0.79370915 0.79166667 0.77144608\n",
            " 0.75265523 0.72691993 0.6629902  0.68198529 0.64419935 0.62152778\n",
            " 0.6439951  0.66319444 0.67544935 0.63705065 0.64603758 0.65890523\n",
            " 0.65870098 0.67790033 0.63194444 0.63112745 0.62785948 0.64767157\n",
            " 0.63991013 0.63480392 0.63868464 0.62336601 0.62745098 0.63970588\n",
            " 0.64705882 0.66196895 0.67075163 0.65196078 0.63112745 0.61294935\n",
            " 0.6376634  0.62254902 0.62745098 0.63337418 0.62642974 0.63623366\n",
            " 0.58312908 0.57781863 0.57230392 0.58006536 0.57618464 0.55167484\n",
            " 0.57883987 0.625      0.63582516 0.62949346 0.62888072 0.62765523\n",
            " 0.62234477 0.63378268 0.62622549 0.62214052 0.62418301 0.60480237\n",
            " 0.5959236  0.58356631 0.5714255  0.56070459 0.55144542 0.54340249\n",
            " 0.53626734 0.52970928 0.52342039 0.51716626 0.51081401 0.50433123\n",
            " 0.4977631  0.49120319 0.48476052 0.4785347  0.47259897 0.46699226\n",
            " 0.46172047 0.45676303 0.45208162 0.447631  ]\n",
            "23 day output [[0.44336724]]\n",
            "24 day input [0.74652778 0.76245915 0.77062908 0.80412582 0.78104575 0.79411765\n",
            " 0.76021242 0.73488562 0.72406046 0.73999183 0.74979575 0.76143791\n",
            " 0.75428922 0.74754902 0.76960784 0.7495915  0.81719771 0.80208333\n",
            " 0.77736928 0.75714869 0.79370915 0.79166667 0.77144608 0.75265523\n",
            " 0.72691993 0.6629902  0.68198529 0.64419935 0.62152778 0.6439951\n",
            " 0.66319444 0.67544935 0.63705065 0.64603758 0.65890523 0.65870098\n",
            " 0.67790033 0.63194444 0.63112745 0.62785948 0.64767157 0.63991013\n",
            " 0.63480392 0.63868464 0.62336601 0.62745098 0.63970588 0.64705882\n",
            " 0.66196895 0.67075163 0.65196078 0.63112745 0.61294935 0.6376634\n",
            " 0.62254902 0.62745098 0.63337418 0.62642974 0.63623366 0.58312908\n",
            " 0.57781863 0.57230392 0.58006536 0.57618464 0.55167484 0.57883987\n",
            " 0.625      0.63582516 0.62949346 0.62888072 0.62765523 0.62234477\n",
            " 0.63378268 0.62622549 0.62214052 0.62418301 0.60480237 0.5959236\n",
            " 0.58356631 0.5714255  0.56070459 0.55144542 0.54340249 0.53626734\n",
            " 0.52970928 0.52342039 0.51716626 0.51081401 0.50433123 0.4977631\n",
            " 0.49120319 0.48476052 0.4785347  0.47259897 0.46699226 0.46172047\n",
            " 0.45676303 0.45208162 0.447631   0.44336724]\n",
            "24 day output [[0.43925261]]\n",
            "25 day input [0.76245915 0.77062908 0.80412582 0.78104575 0.79411765 0.76021242\n",
            " 0.73488562 0.72406046 0.73999183 0.74979575 0.76143791 0.75428922\n",
            " 0.74754902 0.76960784 0.7495915  0.81719771 0.80208333 0.77736928\n",
            " 0.75714869 0.79370915 0.79166667 0.77144608 0.75265523 0.72691993\n",
            " 0.6629902  0.68198529 0.64419935 0.62152778 0.6439951  0.66319444\n",
            " 0.67544935 0.63705065 0.64603758 0.65890523 0.65870098 0.67790033\n",
            " 0.63194444 0.63112745 0.62785948 0.64767157 0.63991013 0.63480392\n",
            " 0.63868464 0.62336601 0.62745098 0.63970588 0.64705882 0.66196895\n",
            " 0.67075163 0.65196078 0.63112745 0.61294935 0.6376634  0.62254902\n",
            " 0.62745098 0.63337418 0.62642974 0.63623366 0.58312908 0.57781863\n",
            " 0.57230392 0.58006536 0.57618464 0.55167484 0.57883987 0.625\n",
            " 0.63582516 0.62949346 0.62888072 0.62765523 0.62234477 0.63378268\n",
            " 0.62622549 0.62214052 0.62418301 0.60480237 0.5959236  0.58356631\n",
            " 0.5714255  0.56070459 0.55144542 0.54340249 0.53626734 0.52970928\n",
            " 0.52342039 0.51716626 0.51081401 0.50433123 0.4977631  0.49120319\n",
            " 0.48476052 0.4785347  0.47259897 0.46699226 0.46172047 0.45676303\n",
            " 0.45208162 0.447631   0.44336724 0.43925261]\n",
            "25 day output [[0.43526036]]\n",
            "26 day input [0.77062908 0.80412582 0.78104575 0.79411765 0.76021242 0.73488562\n",
            " 0.72406046 0.73999183 0.74979575 0.76143791 0.75428922 0.74754902\n",
            " 0.76960784 0.7495915  0.81719771 0.80208333 0.77736928 0.75714869\n",
            " 0.79370915 0.79166667 0.77144608 0.75265523 0.72691993 0.6629902\n",
            " 0.68198529 0.64419935 0.62152778 0.6439951  0.66319444 0.67544935\n",
            " 0.63705065 0.64603758 0.65890523 0.65870098 0.67790033 0.63194444\n",
            " 0.63112745 0.62785948 0.64767157 0.63991013 0.63480392 0.63868464\n",
            " 0.62336601 0.62745098 0.63970588 0.64705882 0.66196895 0.67075163\n",
            " 0.65196078 0.63112745 0.61294935 0.6376634  0.62254902 0.62745098\n",
            " 0.63337418 0.62642974 0.63623366 0.58312908 0.57781863 0.57230392\n",
            " 0.58006536 0.57618464 0.55167484 0.57883987 0.625      0.63582516\n",
            " 0.62949346 0.62888072 0.62765523 0.62234477 0.63378268 0.62622549\n",
            " 0.62214052 0.62418301 0.60480237 0.5959236  0.58356631 0.5714255\n",
            " 0.56070459 0.55144542 0.54340249 0.53626734 0.52970928 0.52342039\n",
            " 0.51716626 0.51081401 0.50433123 0.4977631  0.49120319 0.48476052\n",
            " 0.4785347  0.47259897 0.46699226 0.46172047 0.45676303 0.45208162\n",
            " 0.447631   0.44336724 0.43925261 0.43526036]\n",
            "26 day output [[0.43137407]]\n",
            "27 day input [0.80412582 0.78104575 0.79411765 0.76021242 0.73488562 0.72406046\n",
            " 0.73999183 0.74979575 0.76143791 0.75428922 0.74754902 0.76960784\n",
            " 0.7495915  0.81719771 0.80208333 0.77736928 0.75714869 0.79370915\n",
            " 0.79166667 0.77144608 0.75265523 0.72691993 0.6629902  0.68198529\n",
            " 0.64419935 0.62152778 0.6439951  0.66319444 0.67544935 0.63705065\n",
            " 0.64603758 0.65890523 0.65870098 0.67790033 0.63194444 0.63112745\n",
            " 0.62785948 0.64767157 0.63991013 0.63480392 0.63868464 0.62336601\n",
            " 0.62745098 0.63970588 0.64705882 0.66196895 0.67075163 0.65196078\n",
            " 0.63112745 0.61294935 0.6376634  0.62254902 0.62745098 0.63337418\n",
            " 0.62642974 0.63623366 0.58312908 0.57781863 0.57230392 0.58006536\n",
            " 0.57618464 0.55167484 0.57883987 0.625      0.63582516 0.62949346\n",
            " 0.62888072 0.62765523 0.62234477 0.63378268 0.62622549 0.62214052\n",
            " 0.62418301 0.60480237 0.5959236  0.58356631 0.5714255  0.56070459\n",
            " 0.55144542 0.54340249 0.53626734 0.52970928 0.52342039 0.51716626\n",
            " 0.51081401 0.50433123 0.4977631  0.49120319 0.48476052 0.4785347\n",
            " 0.47259897 0.46699226 0.46172047 0.45676303 0.45208162 0.447631\n",
            " 0.44336724 0.43925261 0.43526036 0.43137407]\n",
            "27 day output [[0.42758697]]\n",
            "28 day input [0.78104575 0.79411765 0.76021242 0.73488562 0.72406046 0.73999183\n",
            " 0.74979575 0.76143791 0.75428922 0.74754902 0.76960784 0.7495915\n",
            " 0.81719771 0.80208333 0.77736928 0.75714869 0.79370915 0.79166667\n",
            " 0.77144608 0.75265523 0.72691993 0.6629902  0.68198529 0.64419935\n",
            " 0.62152778 0.6439951  0.66319444 0.67544935 0.63705065 0.64603758\n",
            " 0.65890523 0.65870098 0.67790033 0.63194444 0.63112745 0.62785948\n",
            " 0.64767157 0.63991013 0.63480392 0.63868464 0.62336601 0.62745098\n",
            " 0.63970588 0.64705882 0.66196895 0.67075163 0.65196078 0.63112745\n",
            " 0.61294935 0.6376634  0.62254902 0.62745098 0.63337418 0.62642974\n",
            " 0.63623366 0.58312908 0.57781863 0.57230392 0.58006536 0.57618464\n",
            " 0.55167484 0.57883987 0.625      0.63582516 0.62949346 0.62888072\n",
            " 0.62765523 0.62234477 0.63378268 0.62622549 0.62214052 0.62418301\n",
            " 0.60480237 0.5959236  0.58356631 0.5714255  0.56070459 0.55144542\n",
            " 0.54340249 0.53626734 0.52970928 0.52342039 0.51716626 0.51081401\n",
            " 0.50433123 0.4977631  0.49120319 0.48476052 0.4785347  0.47259897\n",
            " 0.46699226 0.46172047 0.45676303 0.45208162 0.447631   0.44336724\n",
            " 0.43925261 0.43526036 0.43137407 0.42758697]\n",
            "28 day output [[0.42389983]]\n",
            "29 day input [0.79411765 0.76021242 0.73488562 0.72406046 0.73999183 0.74979575\n",
            " 0.76143791 0.75428922 0.74754902 0.76960784 0.7495915  0.81719771\n",
            " 0.80208333 0.77736928 0.75714869 0.79370915 0.79166667 0.77144608\n",
            " 0.75265523 0.72691993 0.6629902  0.68198529 0.64419935 0.62152778\n",
            " 0.6439951  0.66319444 0.67544935 0.63705065 0.64603758 0.65890523\n",
            " 0.65870098 0.67790033 0.63194444 0.63112745 0.62785948 0.64767157\n",
            " 0.63991013 0.63480392 0.63868464 0.62336601 0.62745098 0.63970588\n",
            " 0.64705882 0.66196895 0.67075163 0.65196078 0.63112745 0.61294935\n",
            " 0.6376634  0.62254902 0.62745098 0.63337418 0.62642974 0.63623366\n",
            " 0.58312908 0.57781863 0.57230392 0.58006536 0.57618464 0.55167484\n",
            " 0.57883987 0.625      0.63582516 0.62949346 0.62888072 0.62765523\n",
            " 0.62234477 0.63378268 0.62622549 0.62214052 0.62418301 0.60480237\n",
            " 0.5959236  0.58356631 0.5714255  0.56070459 0.55144542 0.54340249\n",
            " 0.53626734 0.52970928 0.52342039 0.51716626 0.51081401 0.50433123\n",
            " 0.4977631  0.49120319 0.48476052 0.4785347  0.47259897 0.46699226\n",
            " 0.46172047 0.45676303 0.45208162 0.447631   0.44336724 0.43925261\n",
            " 0.43526036 0.43137407 0.42758697 0.42389983]\n",
            "29 day output [[0.4203161]]\n",
            "[[0.6048023700714111], [0.5959236025810242], [0.5835663080215454], [0.5714254975318909], [0.5607045888900757], [0.5514454245567322], [0.5434024930000305], [0.5362673401832581], [0.5297092795372009], [0.5234203934669495], [0.517166256904602], [0.5108140110969543], [0.5043312311172485], [0.49776309728622437], [0.4912031888961792], [0.4847605228424072], [0.4785346984863281], [0.47259896993637085], [0.46699225902557373], [0.46172046661376953], [0.45676302909851074], [0.4520816206932068], [0.44763100147247314], [0.44336724281311035], [0.4392526149749756], [0.4352603554725647], [0.43137407302856445], [0.42758697271347046], [0.4238998293876648], [0.42031610012054443]]\n"
          ]
        }
      ],
      "source": [
        "lst_output=[] #predicted 30 days output\n",
        "n_steps=100\n",
        "i=0\n",
        "while(i<30): #for 30 days-change according to the number of days you want\n",
        "\n",
        "    if(len(temp_input)>100):\n",
        "        #print(temp_input)\n",
        "        pred_input=np.array(temp_input[1:]) # for last 100 data\n",
        "        print(\"{} day input {}\".format(i,pred_input))\n",
        "        pred_input=pred_input.reshape(1,-1)\n",
        "        pred_input = pred_input.reshape((1, n_steps, 1))\n",
        "        #print(x_input)\n",
        "        yhat = model.predict(pred_input, verbose=0)\n",
        "        print(\"{} day output {}\".format(i,yhat))\n",
        "        temp_input.extend(yhat[0].tolist())\n",
        "        temp_input=temp_input[1:]\n",
        "        #print(temp_input)\n",
        "        lst_output.extend(yhat.tolist())\n",
        "        i=i+1\n",
        "    else:\n",
        "        pred_input = pred_input.reshape((1, n_steps,1))\n",
        "        yhat = model.predict(pred_input, verbose=0)\n",
        "        print(yhat[0])\n",
        "        temp_input.extend(yhat[0].tolist())\n",
        "        print(len(temp_input))\n",
        "        lst_output.extend(yhat.tolist())\n",
        "        i=i+1\n",
        "\n",
        "\n",
        "print(lst_output)"
      ]
    },
    {
      "cell_type": "markdown",
      "id": "65ecb353",
      "metadata": {
        "id": "65ecb353"
      },
      "source": [
        "#### Ploting last 130 days Closing Price"
      ]
    },
    {
      "cell_type": "code",
      "execution_count": null,
      "id": "1ccf519b",
      "metadata": {
        "id": "1ccf519b"
      },
      "outputs": [],
      "source": [
        "day_new = np.arange(1,101)\n",
        "day_pred = np.arange(101,131)"
      ]
    },
    {
      "cell_type": "code",
      "execution_count": null,
      "id": "11a48eea",
      "metadata": {
        "colab": {
          "base_uri": "https://localhost:8080/"
        },
        "id": "11a48eea",
        "outputId": "2fad347a-f961-453a-c436-c2a181577d5a"
      },
      "outputs": [
        {
          "output_type": "execute_result",
          "data": {
            "text/plain": [
              "2035"
            ]
          },
          "metadata": {},
          "execution_count": 39
        }
      ],
      "source": [
        "len(close_srt)"
      ]
    },
    {
      "cell_type": "code",
      "execution_count": null,
      "id": "6f42ae7b",
      "metadata": {
        "colab": {
          "base_uri": "https://localhost:8080/",
          "height": 616
        },
        "id": "6f42ae7b",
        "outputId": "914c1297-50ad-46f6-9fcc-b9c940b699dd"
      },
      "outputs": [
        {
          "output_type": "execute_result",
          "data": {
            "text/plain": [
              "[<matplotlib.lines.Line2D at 0x7e29d3970e80>]"
            ]
          },
          "metadata": {},
          "execution_count": 40
        },
        {
          "output_type": "display_data",
          "data": {
            "text/plain": [
              "<Figure size 1000x700 with 1 Axes>"
            ],
            "image/png": "[encoded data removed]"
          },
          "metadata": {}
        }
      ],
      "source": [
        "plt.figure(figsize=(10,7))\n",
        "plt.plot(day_new,scaler.inverse_transform(close_srt[1935:]))\n",
        "plt.plot(day_pred,scaler.inverse_transform(lst_output))"
      ]
    },
    {
      "cell_type": "markdown",
      "id": "ccd1c5ce",
      "metadata": {
        "id": "ccd1c5ce"
      },
      "source": [
        "#### Appending in a list is done to make continuous graph"
      ]
    },
    {
      "cell_type": "code",
      "execution_count": null,
      "id": "0a389f37",
      "metadata": {
        "id": "0a389f37"
      },
      "outputs": [],
      "source": [
        "df3=close_srt.tolist()\n",
        "#adding specified list of predicted 30 days output to the end of last 100 days output\n",
        "df3.extend(lst_output)"
      ]
    },
    {
      "cell_type": "code",
      "execution_count": null,
      "id": "502d89fb",
      "metadata": {
        "colab": {
          "base_uri": "https://localhost:8080/"
        },
        "id": "502d89fb",
        "outputId": "22a4f831-59e7-45d0-f47c-a974063fd5d5"
      },
      "outputs": [
        {
          "output_type": "stream",
          "name": "stdout",
          "text": [
            "2065\n"
          ]
        }
      ],
      "source": [
        "print(len(df3))"
      ]
    },
    {
      "cell_type": "code",
      "execution_count": null,
      "id": "c642967f",
      "metadata": {
        "colab": {
          "base_uri": "https://localhost:8080/",
          "height": 616
        },
        "id": "c642967f",
        "outputId": "d7a616b3-4088-49f6-9811-8822cfe29207"
      },
      "outputs": [
        {
          "output_type": "execute_result",
          "data": {
            "text/plain": [
              "[<matplotlib.lines.Line2D at 0x7e29d3a9d510>]"
            ]
          },
          "metadata": {},
          "execution_count": 43
        },
        {
          "output_type": "display_data",
          "data": {
            "text/plain": [
              "<Figure size 1000x700 with 1 Axes>"
            ],
            "image/png": "[encoded data removed]"
          },
          "metadata": {}
        }
      ],
      "source": [
        "plt.figure(figsize=(10,7))\n",
        "plt.plot(df3[1935:]) #latest 100 days output"
      ]
    },
    {
      "cell_type": "markdown",
      "id": "45ca2264",
      "metadata": {
        "id": "45ca2264"
      },
      "source": [
        "#### Plotting the graph with predicted 30 days output"
      ]
    },
    {
      "cell_type": "code",
      "execution_count": null,
      "id": "1c4fde1c",
      "metadata": {
        "id": "1c4fde1c"
      },
      "outputs": [],
      "source": [
        "df3=scaler.inverse_transform(df3).tolist() #undoing scaling of df3"
      ]
    },
    {
      "cell_type": "code",
      "execution_count": null,
      "id": "7876b011",
      "metadata": {
        "colab": {
          "base_uri": "https://localhost:8080/",
          "height": 616
        },
        "id": "7876b011",
        "outputId": "1550306c-08f0-48d1-c791-0da12770fd7d"
      },
      "outputs": [
        {
          "output_type": "execute_result",
          "data": {
            "text/plain": [
              "[<matplotlib.lines.Line2D at 0x7e29d3aec2b0>]"
            ]
          },
          "metadata": {},
          "execution_count": 45
        },
        {
          "output_type": "display_data",
          "data": {
            "text/plain": [
              "<Figure size 1000x700 with 1 Axes>"
            ],
            "image/png": "[encoded data removed]"
          },
          "metadata": {}
        }
      ],
      "source": [
        "plt.figure(figsize=(10,7))\n",
        "plt.plot(df3)"
      ]
    }
  ],
  "metadata": {
    "kernelspec": {
      "display_name": "Python 3 (ipykernel)",
      "language": "python",
      "name": "python3"
    },
    "language_info": {
      "codemirror_mode": {
        "name": "ipython",
        "version": 3
      },
      "file_extension": ".py",
      "mimetype": "text/x-python",
      "name": "python",
      "nbconvert_exporter": "python",
      "pygments_lexer": "ipython3",
      "version": "3.9.12"
    },
    "colab": {
      "provenance": [],
      "include_colab_link": true
    }
  },
  "nbformat": 4,
  "nbformat_minor": 5
}